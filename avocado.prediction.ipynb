{
 "cells": [
  {
   "cell_type": "code",
   "execution_count": 1,
   "id": "c20e0d47",
   "metadata": {},
   "outputs": [],
   "source": [
    "import pandas as pd\n",
    "import numpy as np\n",
    "from sklearn.preprocessing import StandardScaler\n",
    "from sklearn.model_selection import train_test_split\n",
    "from statsmodels.stats.outliers_influence import variance_inflation_factor\n",
    "from sklearn.metrics import accuracy_score,confusion_matrix,roc_curve,roc_auc_score\n",
    "import matplotlib.pyplot as plt\n",
    "import seaborn as sns\n",
    "import pickle\n",
    "\n",
    "import warnings\n",
    "warnings.filterwarnings('ignore')"
   ]
  },
  {
   "cell_type": "code",
   "execution_count": 2,
   "id": "2236f580",
   "metadata": {},
   "outputs": [],
   "source": [
    "#importing dataset\n",
    "df=pd.read_csv('avocado.csv')"
   ]
  },
  {
   "cell_type": "code",
   "execution_count": 3,
   "id": "11779033",
   "metadata": {},
   "outputs": [
    {
     "data": {
      "text/html": [
       "<div>\n",
       "<style scoped>\n",
       "    .dataframe tbody tr th:only-of-type {\n",
       "        vertical-align: middle;\n",
       "    }\n",
       "\n",
       "    .dataframe tbody tr th {\n",
       "        vertical-align: top;\n",
       "    }\n",
       "\n",
       "    .dataframe thead th {\n",
       "        text-align: right;\n",
       "    }\n",
       "</style>\n",
       "<table border=\"1\" class=\"dataframe\">\n",
       "  <thead>\n",
       "    <tr style=\"text-align: right;\">\n",
       "      <th></th>\n",
       "      <th>Unnamed: 0</th>\n",
       "      <th>Date</th>\n",
       "      <th>AveragePrice</th>\n",
       "      <th>Total Volume</th>\n",
       "      <th>4046</th>\n",
       "      <th>4225</th>\n",
       "      <th>4770</th>\n",
       "      <th>Total Bags</th>\n",
       "      <th>Small Bags</th>\n",
       "      <th>Large Bags</th>\n",
       "      <th>XLarge Bags</th>\n",
       "      <th>type</th>\n",
       "      <th>year</th>\n",
       "      <th>region</th>\n",
       "    </tr>\n",
       "  </thead>\n",
       "  <tbody>\n",
       "    <tr>\n",
       "      <th>0</th>\n",
       "      <td>0</td>\n",
       "      <td>2015-12-27</td>\n",
       "      <td>1.33</td>\n",
       "      <td>64236.62</td>\n",
       "      <td>1036.74</td>\n",
       "      <td>54454.85</td>\n",
       "      <td>48.16</td>\n",
       "      <td>8696.87</td>\n",
       "      <td>8603.62</td>\n",
       "      <td>93.25</td>\n",
       "      <td>0.0</td>\n",
       "      <td>conventional</td>\n",
       "      <td>2015</td>\n",
       "      <td>Albany</td>\n",
       "    </tr>\n",
       "    <tr>\n",
       "      <th>1</th>\n",
       "      <td>1</td>\n",
       "      <td>2015-12-20</td>\n",
       "      <td>1.35</td>\n",
       "      <td>54876.98</td>\n",
       "      <td>674.28</td>\n",
       "      <td>44638.81</td>\n",
       "      <td>58.33</td>\n",
       "      <td>9505.56</td>\n",
       "      <td>9408.07</td>\n",
       "      <td>97.49</td>\n",
       "      <td>0.0</td>\n",
       "      <td>conventional</td>\n",
       "      <td>2015</td>\n",
       "      <td>Albany</td>\n",
       "    </tr>\n",
       "    <tr>\n",
       "      <th>2</th>\n",
       "      <td>2</td>\n",
       "      <td>2015-12-13</td>\n",
       "      <td>0.93</td>\n",
       "      <td>118220.22</td>\n",
       "      <td>794.70</td>\n",
       "      <td>109149.67</td>\n",
       "      <td>130.50</td>\n",
       "      <td>8145.35</td>\n",
       "      <td>8042.21</td>\n",
       "      <td>103.14</td>\n",
       "      <td>0.0</td>\n",
       "      <td>conventional</td>\n",
       "      <td>2015</td>\n",
       "      <td>Albany</td>\n",
       "    </tr>\n",
       "    <tr>\n",
       "      <th>3</th>\n",
       "      <td>3</td>\n",
       "      <td>2015-12-06</td>\n",
       "      <td>1.08</td>\n",
       "      <td>78992.15</td>\n",
       "      <td>1132.00</td>\n",
       "      <td>71976.41</td>\n",
       "      <td>72.58</td>\n",
       "      <td>5811.16</td>\n",
       "      <td>5677.40</td>\n",
       "      <td>133.76</td>\n",
       "      <td>0.0</td>\n",
       "      <td>conventional</td>\n",
       "      <td>2015</td>\n",
       "      <td>Albany</td>\n",
       "    </tr>\n",
       "    <tr>\n",
       "      <th>4</th>\n",
       "      <td>4</td>\n",
       "      <td>2015-11-29</td>\n",
       "      <td>1.28</td>\n",
       "      <td>51039.60</td>\n",
       "      <td>941.48</td>\n",
       "      <td>43838.39</td>\n",
       "      <td>75.78</td>\n",
       "      <td>6183.95</td>\n",
       "      <td>5986.26</td>\n",
       "      <td>197.69</td>\n",
       "      <td>0.0</td>\n",
       "      <td>conventional</td>\n",
       "      <td>2015</td>\n",
       "      <td>Albany</td>\n",
       "    </tr>\n",
       "  </tbody>\n",
       "</table>\n",
       "</div>"
      ],
      "text/plain": [
       "   Unnamed: 0        Date  AveragePrice  Total Volume     4046       4225  \\\n",
       "0           0  2015-12-27          1.33      64236.62  1036.74   54454.85   \n",
       "1           1  2015-12-20          1.35      54876.98   674.28   44638.81   \n",
       "2           2  2015-12-13          0.93     118220.22   794.70  109149.67   \n",
       "3           3  2015-12-06          1.08      78992.15  1132.00   71976.41   \n",
       "4           4  2015-11-29          1.28      51039.60   941.48   43838.39   \n",
       "\n",
       "     4770  Total Bags  Small Bags  Large Bags  XLarge Bags          type  \\\n",
       "0   48.16     8696.87     8603.62       93.25          0.0  conventional   \n",
       "1   58.33     9505.56     9408.07       97.49          0.0  conventional   \n",
       "2  130.50     8145.35     8042.21      103.14          0.0  conventional   \n",
       "3   72.58     5811.16     5677.40      133.76          0.0  conventional   \n",
       "4   75.78     6183.95     5986.26      197.69          0.0  conventional   \n",
       "\n",
       "   year  region  \n",
       "0  2015  Albany  \n",
       "1  2015  Albany  \n",
       "2  2015  Albany  \n",
       "3  2015  Albany  \n",
       "4  2015  Albany  "
      ]
     },
     "execution_count": 3,
     "metadata": {},
     "output_type": "execute_result"
    }
   ],
   "source": [
    "df.head(5)"
   ]
  },
  {
   "cell_type": "markdown",
   "id": "68748e8b",
   "metadata": {},
   "source": [
    "The dataset can be seen in two angles to find the region and find the average price .\n",
    "for classification--\"region\"\n",
    "for regression --\"AveragePrice\""
   ]
  },
  {
   "cell_type": "code",
   "execution_count": 4,
   "id": "37570cc4",
   "metadata": {},
   "outputs": [
    {
     "data": {
      "text/plain": [
       "(18249, 14)"
      ]
     },
     "execution_count": 4,
     "metadata": {},
     "output_type": "execute_result"
    }
   ],
   "source": [
    "df.shape"
   ]
  },
  {
   "cell_type": "code",
   "execution_count": 5,
   "id": "cd920e54",
   "metadata": {},
   "outputs": [
    {
     "data": {
      "text/plain": [
       "Index(['Unnamed: 0', 'Date', 'AveragePrice', 'Total Volume', '4046', '4225',\n",
       "       '4770', 'Total Bags', 'Small Bags', 'Large Bags', 'XLarge Bags', 'type',\n",
       "       'year', 'region'],\n",
       "      dtype='object')"
      ]
     },
     "execution_count": 5,
     "metadata": {},
     "output_type": "execute_result"
    }
   ],
   "source": [
    "df.columns"
   ]
  },
  {
   "cell_type": "markdown",
   "id": "f1966069",
   "metadata": {},
   "source": [
    "# DATA PREPROCESSING¶"
   ]
  },
  {
   "cell_type": "code",
   "execution_count": 6,
   "id": "f297dbdb",
   "metadata": {},
   "outputs": [
    {
     "name": "stdout",
     "output_type": "stream",
     "text": [
      "<class 'pandas.core.frame.DataFrame'>\n",
      "RangeIndex: 18249 entries, 0 to 18248\n",
      "Data columns (total 14 columns):\n",
      " #   Column        Non-Null Count  Dtype  \n",
      "---  ------        --------------  -----  \n",
      " 0   Unnamed: 0    18249 non-null  int64  \n",
      " 1   Date          18249 non-null  object \n",
      " 2   AveragePrice  18249 non-null  float64\n",
      " 3   Total Volume  18249 non-null  float64\n",
      " 4   4046          18249 non-null  float64\n",
      " 5   4225          18249 non-null  float64\n",
      " 6   4770          18249 non-null  float64\n",
      " 7   Total Bags    18249 non-null  float64\n",
      " 8   Small Bags    18249 non-null  float64\n",
      " 9   Large Bags    18249 non-null  float64\n",
      " 10  XLarge Bags   18249 non-null  float64\n",
      " 11  type          18249 non-null  object \n",
      " 12  year          18249 non-null  int64  \n",
      " 13  region        18249 non-null  object \n",
      "dtypes: float64(9), int64(2), object(3)\n",
      "memory usage: 1.9+ MB\n"
     ]
    }
   ],
   "source": [
    "#Information about data\n",
    "df.info()"
   ]
  },
  {
   "cell_type": "code",
   "execution_count": 7,
   "id": "ddf31ab1",
   "metadata": {},
   "outputs": [
    {
     "data": {
      "text/plain": [
       "Unnamed: 0      0\n",
       "Date            0\n",
       "AveragePrice    0\n",
       "Total Volume    0\n",
       "4046            0\n",
       "4225            0\n",
       "4770            0\n",
       "Total Bags      0\n",
       "Small Bags      0\n",
       "Large Bags      0\n",
       "XLarge Bags     0\n",
       "type            0\n",
       "year            0\n",
       "region          0\n",
       "dtype: int64"
      ]
     },
     "execution_count": 7,
     "metadata": {},
     "output_type": "execute_result"
    }
   ],
   "source": [
    "##checking null values\n",
    "df.isnull().sum()"
   ]
  },
  {
   "cell_type": "markdown",
   "id": "66bd3728",
   "metadata": {},
   "source": [
    "No null values present and all data types are correct"
   ]
  },
  {
   "cell_type": "code",
   "execution_count": 8,
   "id": "d1ff40b5",
   "metadata": {},
   "outputs": [],
   "source": [
    "#dropping the unwanted columns\n",
    "df=df.drop('Unnamed: 0' ,axis=1)"
   ]
  },
  {
   "cell_type": "code",
   "execution_count": 9,
   "id": "69c27353",
   "metadata": {},
   "outputs": [
    {
     "data": {
      "text/plain": [
       "(18249, 13)"
      ]
     },
     "execution_count": 9,
     "metadata": {},
     "output_type": "execute_result"
    }
   ],
   "source": [
    "df.shape"
   ]
  },
  {
   "cell_type": "code",
   "execution_count": 10,
   "id": "db2c7231",
   "metadata": {},
   "outputs": [
    {
     "name": "stdout",
     "output_type": "stream",
     "text": [
      "Categorical columns:   ['Date', 'type', 'region']\n",
      "\n",
      "\n",
      "Numerical columns:   ['AveragePrice', 'Total Volume', '4046', '4225', '4770', 'Total Bags', 'Small Bags', 'Large Bags', 'XLarge Bags', 'year']\n",
      "\n",
      "\n"
     ]
    }
   ],
   "source": [
    "#seperating the numerical and categorical columns\n",
    "\n",
    "#checking the Categorical columns\n",
    "Categorical_col=[]\n",
    "for i in df.dtypes.index:\n",
    "    if df.dtypes[i] ==\"object\": \n",
    "        Categorical_col.append(i)\n",
    " \n",
    "print(\"Categorical columns:  \",Categorical_col)\n",
    "print(\"\\n\")\n",
    "\n",
    "\n",
    "Numerical_col=[]\n",
    "for i in df.dtypes.index:\n",
    "    if df.dtypes[i] !=\"object\": \n",
    "        Numerical_col.append(i)\n",
    " \n",
    "print(\"Numerical columns:  \",Numerical_col)\n",
    "print(\"\\n\")\n"
   ]
  },
  {
   "cell_type": "code",
   "execution_count": 11,
   "id": "365cb9fd",
   "metadata": {},
   "outputs": [
    {
     "data": {
      "text/html": [
       "<div>\n",
       "<style scoped>\n",
       "    .dataframe tbody tr th:only-of-type {\n",
       "        vertical-align: middle;\n",
       "    }\n",
       "\n",
       "    .dataframe tbody tr th {\n",
       "        vertical-align: top;\n",
       "    }\n",
       "\n",
       "    .dataframe thead th {\n",
       "        text-align: right;\n",
       "    }\n",
       "</style>\n",
       "<table border=\"1\" class=\"dataframe\">\n",
       "  <thead>\n",
       "    <tr style=\"text-align: right;\">\n",
       "      <th></th>\n",
       "      <th>no of unique values</th>\n",
       "    </tr>\n",
       "  </thead>\n",
       "  <tbody>\n",
       "    <tr>\n",
       "      <th>Date</th>\n",
       "      <td>169</td>\n",
       "    </tr>\n",
       "    <tr>\n",
       "      <th>AveragePrice</th>\n",
       "      <td>259</td>\n",
       "    </tr>\n",
       "    <tr>\n",
       "      <th>Total Volume</th>\n",
       "      <td>18237</td>\n",
       "    </tr>\n",
       "    <tr>\n",
       "      <th>4046</th>\n",
       "      <td>17702</td>\n",
       "    </tr>\n",
       "    <tr>\n",
       "      <th>4225</th>\n",
       "      <td>18103</td>\n",
       "    </tr>\n",
       "    <tr>\n",
       "      <th>4770</th>\n",
       "      <td>12071</td>\n",
       "    </tr>\n",
       "    <tr>\n",
       "      <th>Total Bags</th>\n",
       "      <td>18097</td>\n",
       "    </tr>\n",
       "    <tr>\n",
       "      <th>Small Bags</th>\n",
       "      <td>17321</td>\n",
       "    </tr>\n",
       "    <tr>\n",
       "      <th>Large Bags</th>\n",
       "      <td>15082</td>\n",
       "    </tr>\n",
       "    <tr>\n",
       "      <th>XLarge Bags</th>\n",
       "      <td>5588</td>\n",
       "    </tr>\n",
       "    <tr>\n",
       "      <th>type</th>\n",
       "      <td>2</td>\n",
       "    </tr>\n",
       "    <tr>\n",
       "      <th>year</th>\n",
       "      <td>4</td>\n",
       "    </tr>\n",
       "    <tr>\n",
       "      <th>region</th>\n",
       "      <td>54</td>\n",
       "    </tr>\n",
       "  </tbody>\n",
       "</table>\n",
       "</div>"
      ],
      "text/plain": [
       "              no of unique values\n",
       "Date                          169\n",
       "AveragePrice                  259\n",
       "Total Volume                18237\n",
       "4046                        17702\n",
       "4225                        18103\n",
       "4770                        12071\n",
       "Total Bags                  18097\n",
       "Small Bags                  17321\n",
       "Large Bags                  15082\n",
       "XLarge Bags                  5588\n",
       "type                            2\n",
       "year                            4\n",
       "region                         54"
      ]
     },
     "execution_count": 11,
     "metadata": {},
     "output_type": "execute_result"
    }
   ],
   "source": [
    "#checking the list of counts of target\n",
    "df.nunique().to_frame(\"no of unique values\")"
   ]
  },
  {
   "cell_type": "code",
   "execution_count": 12,
   "id": "9a105370",
   "metadata": {},
   "outputs": [
    {
     "data": {
      "text/plain": [
       "array(['conventional', 'organic'], dtype=object)"
      ]
     },
     "execution_count": 12,
     "metadata": {},
     "output_type": "execute_result"
    }
   ],
   "source": [
    "df[\"type\"].unique()"
   ]
  },
  {
   "cell_type": "code",
   "execution_count": 115,
   "id": "5947bd6b",
   "metadata": {},
   "outputs": [],
   "source": [
    "#replacing the type column values\n",
    "df=df.replace([\"conventional\", \"organic\"],\n",
    "           [\"0\",\"1\"])"
   ]
  },
  {
   "cell_type": "code",
   "execution_count": 13,
   "id": "6b3df616",
   "metadata": {},
   "outputs": [
    {
     "data": {
      "text/plain": [
       "year\n",
       "2015    1.375590\n",
       "2016    1.338640\n",
       "2017    1.515128\n",
       "2018    1.347531\n",
       "Name: AveragePrice, dtype: float64"
      ]
     },
     "execution_count": 13,
     "metadata": {},
     "output_type": "execute_result"
    }
   ],
   "source": [
    "#checking the mean price of avocado every year\n",
    "df.groupby('year')['AveragePrice'].mean()"
   ]
  },
  {
   "cell_type": "markdown",
   "id": "ad21ae24",
   "metadata": {},
   "source": [
    "in year 2017 the average price is high when compared to 2015,2016 &2018"
   ]
  },
  {
   "cell_type": "code",
   "execution_count": 14,
   "id": "61769866",
   "metadata": {},
   "outputs": [
    {
     "data": {
      "text/plain": [
       "year  type        \n",
       "2015  conventional    2808\n",
       "      organic         2807\n",
       "2016  conventional    2808\n",
       "      organic         2808\n",
       "2017  conventional    2862\n",
       "      organic         2860\n",
       "2018  conventional     648\n",
       "      organic          648\n",
       "Name: count, dtype: int64"
      ]
     },
     "execution_count": 14,
     "metadata": {},
     "output_type": "execute_result"
    }
   ],
   "source": [
    "#checking the which type of avocado is sell in last years\n",
    "df.groupby('year')['type'].value_counts()"
   ]
  },
  {
   "cell_type": "code",
   "execution_count": 15,
   "id": "6e8df8f5",
   "metadata": {},
   "outputs": [
    {
     "data": {
      "text/plain": [
       "array(['Albany', 'Atlanta', 'BaltimoreWashington', 'Boise', 'Boston',\n",
       "       'BuffaloRochester', 'California', 'Charlotte', 'Chicago',\n",
       "       'CincinnatiDayton', 'Columbus', 'DallasFtWorth', 'Denver',\n",
       "       'Detroit', 'GrandRapids', 'GreatLakes', 'HarrisburgScranton',\n",
       "       'HartfordSpringfield', 'Houston', 'Indianapolis', 'Jacksonville',\n",
       "       'LasVegas', 'LosAngeles', 'Louisville', 'MiamiFtLauderdale',\n",
       "       'Midsouth', 'Nashville', 'NewOrleansMobile', 'NewYork',\n",
       "       'Northeast', 'NorthernNewEngland', 'Orlando', 'Philadelphia',\n",
       "       'PhoenixTucson', 'Pittsburgh', 'Plains', 'Portland',\n",
       "       'RaleighGreensboro', 'RichmondNorfolk', 'Roanoke', 'Sacramento',\n",
       "       'SanDiego', 'SanFrancisco', 'Seattle', 'SouthCarolina',\n",
       "       'SouthCentral', 'Southeast', 'Spokane', 'StLouis', 'Syracuse',\n",
       "       'Tampa', 'TotalUS', 'West', 'WestTexNewMexico'], dtype=object)"
      ]
     },
     "execution_count": 15,
     "metadata": {},
     "output_type": "execute_result"
    }
   ],
   "source": [
    "df[\"region\"].unique()"
   ]
  },
  {
   "cell_type": "code",
   "execution_count": 16,
   "id": "2333350e",
   "metadata": {},
   "outputs": [
    {
     "data": {
      "text/plain": [
       "54"
      ]
     },
     "execution_count": 16,
     "metadata": {},
     "output_type": "execute_result"
    }
   ],
   "source": [
    "df[\"region\"].nunique()"
   ]
  },
  {
   "cell_type": "code",
   "execution_count": 17,
   "id": "cac8d595",
   "metadata": {},
   "outputs": [
    {
     "data": {
      "text/html": [
       "<div>\n",
       "<style scoped>\n",
       "    .dataframe tbody tr th:only-of-type {\n",
       "        vertical-align: middle;\n",
       "    }\n",
       "\n",
       "    .dataframe tbody tr th {\n",
       "        vertical-align: top;\n",
       "    }\n",
       "\n",
       "    .dataframe thead th {\n",
       "        text-align: right;\n",
       "    }\n",
       "</style>\n",
       "<table border=\"1\" class=\"dataframe\">\n",
       "  <thead>\n",
       "    <tr style=\"text-align: right;\">\n",
       "      <th></th>\n",
       "      <th>AveragePrice</th>\n",
       "      <th>Total Volume</th>\n",
       "      <th>4046</th>\n",
       "      <th>4225</th>\n",
       "      <th>4770</th>\n",
       "      <th>Total Bags</th>\n",
       "      <th>Small Bags</th>\n",
       "      <th>Large Bags</th>\n",
       "      <th>XLarge Bags</th>\n",
       "      <th>year</th>\n",
       "    </tr>\n",
       "  </thead>\n",
       "  <tbody>\n",
       "    <tr>\n",
       "      <th>count</th>\n",
       "      <td>18249.000000</td>\n",
       "      <td>1.824900e+04</td>\n",
       "      <td>1.824900e+04</td>\n",
       "      <td>1.824900e+04</td>\n",
       "      <td>1.824900e+04</td>\n",
       "      <td>1.824900e+04</td>\n",
       "      <td>1.824900e+04</td>\n",
       "      <td>1.824900e+04</td>\n",
       "      <td>18249.000000</td>\n",
       "      <td>18249.000000</td>\n",
       "    </tr>\n",
       "    <tr>\n",
       "      <th>mean</th>\n",
       "      <td>1.405978</td>\n",
       "      <td>8.506440e+05</td>\n",
       "      <td>2.930084e+05</td>\n",
       "      <td>2.951546e+05</td>\n",
       "      <td>2.283974e+04</td>\n",
       "      <td>2.396392e+05</td>\n",
       "      <td>1.821947e+05</td>\n",
       "      <td>5.433809e+04</td>\n",
       "      <td>3106.426507</td>\n",
       "      <td>2016.147899</td>\n",
       "    </tr>\n",
       "    <tr>\n",
       "      <th>std</th>\n",
       "      <td>0.402677</td>\n",
       "      <td>3.453545e+06</td>\n",
       "      <td>1.264989e+06</td>\n",
       "      <td>1.204120e+06</td>\n",
       "      <td>1.074641e+05</td>\n",
       "      <td>9.862424e+05</td>\n",
       "      <td>7.461785e+05</td>\n",
       "      <td>2.439660e+05</td>\n",
       "      <td>17692.894652</td>\n",
       "      <td>0.939938</td>\n",
       "    </tr>\n",
       "    <tr>\n",
       "      <th>min</th>\n",
       "      <td>0.440000</td>\n",
       "      <td>8.456000e+01</td>\n",
       "      <td>0.000000e+00</td>\n",
       "      <td>0.000000e+00</td>\n",
       "      <td>0.000000e+00</td>\n",
       "      <td>0.000000e+00</td>\n",
       "      <td>0.000000e+00</td>\n",
       "      <td>0.000000e+00</td>\n",
       "      <td>0.000000</td>\n",
       "      <td>2015.000000</td>\n",
       "    </tr>\n",
       "    <tr>\n",
       "      <th>25%</th>\n",
       "      <td>1.100000</td>\n",
       "      <td>1.083858e+04</td>\n",
       "      <td>8.540700e+02</td>\n",
       "      <td>3.008780e+03</td>\n",
       "      <td>0.000000e+00</td>\n",
       "      <td>5.088640e+03</td>\n",
       "      <td>2.849420e+03</td>\n",
       "      <td>1.274700e+02</td>\n",
       "      <td>0.000000</td>\n",
       "      <td>2015.000000</td>\n",
       "    </tr>\n",
       "    <tr>\n",
       "      <th>50%</th>\n",
       "      <td>1.370000</td>\n",
       "      <td>1.073768e+05</td>\n",
       "      <td>8.645300e+03</td>\n",
       "      <td>2.906102e+04</td>\n",
       "      <td>1.849900e+02</td>\n",
       "      <td>3.974383e+04</td>\n",
       "      <td>2.636282e+04</td>\n",
       "      <td>2.647710e+03</td>\n",
       "      <td>0.000000</td>\n",
       "      <td>2016.000000</td>\n",
       "    </tr>\n",
       "    <tr>\n",
       "      <th>75%</th>\n",
       "      <td>1.660000</td>\n",
       "      <td>4.329623e+05</td>\n",
       "      <td>1.110202e+05</td>\n",
       "      <td>1.502069e+05</td>\n",
       "      <td>6.243420e+03</td>\n",
       "      <td>1.107834e+05</td>\n",
       "      <td>8.333767e+04</td>\n",
       "      <td>2.202925e+04</td>\n",
       "      <td>132.500000</td>\n",
       "      <td>2017.000000</td>\n",
       "    </tr>\n",
       "    <tr>\n",
       "      <th>max</th>\n",
       "      <td>3.250000</td>\n",
       "      <td>6.250565e+07</td>\n",
       "      <td>2.274362e+07</td>\n",
       "      <td>2.047057e+07</td>\n",
       "      <td>2.546439e+06</td>\n",
       "      <td>1.937313e+07</td>\n",
       "      <td>1.338459e+07</td>\n",
       "      <td>5.719097e+06</td>\n",
       "      <td>551693.650000</td>\n",
       "      <td>2018.000000</td>\n",
       "    </tr>\n",
       "  </tbody>\n",
       "</table>\n",
       "</div>"
      ],
      "text/plain": [
       "       AveragePrice  Total Volume          4046          4225          4770  \\\n",
       "count  18249.000000  1.824900e+04  1.824900e+04  1.824900e+04  1.824900e+04   \n",
       "mean       1.405978  8.506440e+05  2.930084e+05  2.951546e+05  2.283974e+04   \n",
       "std        0.402677  3.453545e+06  1.264989e+06  1.204120e+06  1.074641e+05   \n",
       "min        0.440000  8.456000e+01  0.000000e+00  0.000000e+00  0.000000e+00   \n",
       "25%        1.100000  1.083858e+04  8.540700e+02  3.008780e+03  0.000000e+00   \n",
       "50%        1.370000  1.073768e+05  8.645300e+03  2.906102e+04  1.849900e+02   \n",
       "75%        1.660000  4.329623e+05  1.110202e+05  1.502069e+05  6.243420e+03   \n",
       "max        3.250000  6.250565e+07  2.274362e+07  2.047057e+07  2.546439e+06   \n",
       "\n",
       "         Total Bags    Small Bags    Large Bags    XLarge Bags          year  \n",
       "count  1.824900e+04  1.824900e+04  1.824900e+04   18249.000000  18249.000000  \n",
       "mean   2.396392e+05  1.821947e+05  5.433809e+04    3106.426507   2016.147899  \n",
       "std    9.862424e+05  7.461785e+05  2.439660e+05   17692.894652      0.939938  \n",
       "min    0.000000e+00  0.000000e+00  0.000000e+00       0.000000   2015.000000  \n",
       "25%    5.088640e+03  2.849420e+03  1.274700e+02       0.000000   2015.000000  \n",
       "50%    3.974383e+04  2.636282e+04  2.647710e+03       0.000000   2016.000000  \n",
       "75%    1.107834e+05  8.333767e+04  2.202925e+04     132.500000   2017.000000  \n",
       "max    1.937313e+07  1.338459e+07  5.719097e+06  551693.650000   2018.000000  "
      ]
     },
     "execution_count": 17,
     "metadata": {},
     "output_type": "execute_result"
    }
   ],
   "source": [
    "#Statastical measures of dataset\n",
    "df.describe()"
   ]
  },
  {
   "cell_type": "markdown",
   "id": "7d6fe0d1",
   "metadata": {},
   "source": [
    "1)In the most of the columns mean and median are close to each other.\n",
    "2)most of columns mean is greater than std.\n",
    "3)there is huge difference in 75% to max means are outliers in most of columns."
   ]
  },
  {
   "cell_type": "markdown",
   "id": "7da8a3ff",
   "metadata": {},
   "source": [
    "# DATA VISULIZATION"
   ]
  },
  {
   "cell_type": "code",
   "execution_count": 18,
   "id": "f4c6860a",
   "metadata": {},
   "outputs": [
    {
     "data": {
      "image/png": "[encoded data removed]",
      "text/plain": [
       "<Figure size 640x480 with 1 Axes>"
      ]
     },
     "metadata": {},
     "output_type": "display_data"
    }
   ],
   "source": [
    "#comparing fyear vs AveragePrice\n",
    "sns.barplot(x='year', y='AveragePrice', data=df)\n",
    "plt.show()"
   ]
  },
  {
   "cell_type": "markdown",
   "id": "6aa24f1f",
   "metadata": {},
   "source": [
    "n year 2017 the average price is high when compared to 2015,2016 &2018"
   ]
  },
  {
   "cell_type": "markdown",
   "id": "53210064",
   "metadata": {},
   "source": [
    "Detecting outliers"
   ]
  },
  {
   "cell_type": "code",
   "execution_count": 19,
   "id": "b6dd922d",
   "metadata": {},
   "outputs": [
    {
     "data": {
      "image/png": "[encoded data removed]",
      "text/plain": [
       "<Figure size 2000x1500 with 10 Axes>"
      ]
     },
     "metadata": {},
     "output_type": "display_data"
    }
   ],
   "source": [
    "plt.figure(figsize=(20,15), facecolor= \"yellow\")\n",
    "plotnumber = 1#iteration or index value\n",
    "for col in Numerical_col:\n",
    "    if plotnumber<=13:\n",
    "        ax=plt.subplot(4,4, plotnumber)#subplot is used to plot diff plot on single image\n",
    "        sns.boxplot(df[col])\n",
    "        plt.xlabel(col,fontsize=12)\n",
    "        plt.yticks(rotation= 0, fontsize=10)\n",
    "    plotnumber+=1\n",
    "plt.tight_layout()"
   ]
  },
  {
   "cell_type": "markdown",
   "id": "d9ec8d5a",
   "metadata": {},
   "source": [
    " in most of columns there are huge outliers in total volume,4046,4225,4770,total bags,smallbags,large bags,xlarge bage"
   ]
  },
  {
   "cell_type": "code",
   "execution_count": 20,
   "id": "02f95299",
   "metadata": {},
   "outputs": [
    {
     "data": {
      "text/html": [
       "<div>\n",
       "<style scoped>\n",
       "    .dataframe tbody tr th:only-of-type {\n",
       "        vertical-align: middle;\n",
       "    }\n",
       "\n",
       "    .dataframe tbody tr th {\n",
       "        vertical-align: top;\n",
       "    }\n",
       "\n",
       "    .dataframe thead th {\n",
       "        text-align: right;\n",
       "    }\n",
       "</style>\n",
       "<table border=\"1\" class=\"dataframe\">\n",
       "  <thead>\n",
       "    <tr style=\"text-align: right;\">\n",
       "      <th></th>\n",
       "      <th>Total Volume</th>\n",
       "      <th>4046</th>\n",
       "      <th>4225</th>\n",
       "      <th>4770</th>\n",
       "      <th>Total Bags</th>\n",
       "      <th>Small Bags</th>\n",
       "      <th>Large Bags</th>\n",
       "      <th>XLarge Bags</th>\n",
       "    </tr>\n",
       "  </thead>\n",
       "  <tbody>\n",
       "    <tr>\n",
       "      <th>0</th>\n",
       "      <td>0.227716</td>\n",
       "      <td>0.230816</td>\n",
       "      <td>0.199902</td>\n",
       "      <td>0.212091</td>\n",
       "      <td>0.234170</td>\n",
       "      <td>0.232647</td>\n",
       "      <td>0.222352</td>\n",
       "      <td>0.17558</td>\n",
       "    </tr>\n",
       "    <tr>\n",
       "      <th>1</th>\n",
       "      <td>0.230427</td>\n",
       "      <td>0.231103</td>\n",
       "      <td>0.208054</td>\n",
       "      <td>0.211997</td>\n",
       "      <td>0.233350</td>\n",
       "      <td>0.231568</td>\n",
       "      <td>0.222335</td>\n",
       "      <td>0.17558</td>\n",
       "    </tr>\n",
       "    <tr>\n",
       "      <th>2</th>\n",
       "      <td>0.212085</td>\n",
       "      <td>0.231007</td>\n",
       "      <td>0.154478</td>\n",
       "      <td>0.211325</td>\n",
       "      <td>0.234730</td>\n",
       "      <td>0.233399</td>\n",
       "      <td>0.222311</td>\n",
       "      <td>0.17558</td>\n",
       "    </tr>\n",
       "    <tr>\n",
       "      <th>3</th>\n",
       "      <td>0.223444</td>\n",
       "      <td>0.230741</td>\n",
       "      <td>0.185350</td>\n",
       "      <td>0.211864</td>\n",
       "      <td>0.237096</td>\n",
       "      <td>0.236568</td>\n",
       "      <td>0.222186</td>\n",
       "      <td>0.17558</td>\n",
       "    </tr>\n",
       "    <tr>\n",
       "      <th>4</th>\n",
       "      <td>0.231538</td>\n",
       "      <td>0.230891</td>\n",
       "      <td>0.208719</td>\n",
       "      <td>0.211834</td>\n",
       "      <td>0.236718</td>\n",
       "      <td>0.236154</td>\n",
       "      <td>0.221924</td>\n",
       "      <td>0.17558</td>\n",
       "    </tr>\n",
       "    <tr>\n",
       "      <th>...</th>\n",
       "      <td>...</td>\n",
       "      <td>...</td>\n",
       "      <td>...</td>\n",
       "      <td>...</td>\n",
       "      <td>...</td>\n",
       "      <td>...</td>\n",
       "      <td>...</td>\n",
       "      <td>...</td>\n",
       "    </tr>\n",
       "    <tr>\n",
       "      <th>18244</th>\n",
       "      <td>0.241373</td>\n",
       "      <td>0.230017</td>\n",
       "      <td>0.243857</td>\n",
       "      <td>0.212540</td>\n",
       "      <td>0.229301</td>\n",
       "      <td>0.226665</td>\n",
       "      <td>0.220964</td>\n",
       "      <td>0.17558</td>\n",
       "    </tr>\n",
       "    <tr>\n",
       "      <th>18245</th>\n",
       "      <td>0.242296</td>\n",
       "      <td>0.230693</td>\n",
       "      <td>0.242277</td>\n",
       "      <td>0.212540</td>\n",
       "      <td>0.233594</td>\n",
       "      <td>0.232196</td>\n",
       "      <td>0.221403</td>\n",
       "      <td>0.17558</td>\n",
       "    </tr>\n",
       "    <tr>\n",
       "      <th>18246</th>\n",
       "      <td>0.242331</td>\n",
       "      <td>0.230693</td>\n",
       "      <td>0.243090</td>\n",
       "      <td>0.205766</td>\n",
       "      <td>0.233463</td>\n",
       "      <td>0.231644</td>\n",
       "      <td>0.222561</td>\n",
       "      <td>0.17558</td>\n",
       "    </tr>\n",
       "    <tr>\n",
       "      <th>18247</th>\n",
       "      <td>0.241625</td>\n",
       "      <td>0.230428</td>\n",
       "      <td>0.242651</td>\n",
       "      <td>0.205774</td>\n",
       "      <td>0.231866</td>\n",
       "      <td>0.229543</td>\n",
       "      <td>0.222529</td>\n",
       "      <td>0.17558</td>\n",
       "    </tr>\n",
       "    <tr>\n",
       "      <th>18248</th>\n",
       "      <td>0.241253</td>\n",
       "      <td>0.229347</td>\n",
       "      <td>0.243170</td>\n",
       "      <td>0.210450</td>\n",
       "      <td>0.230807</td>\n",
       "      <td>0.228111</td>\n",
       "      <td>0.222628</td>\n",
       "      <td>0.17558</td>\n",
       "    </tr>\n",
       "  </tbody>\n",
       "</table>\n",
       "<p>18249 rows × 8 columns</p>\n",
       "</div>"
      ],
      "text/plain": [
       "       Total Volume      4046      4225      4770  Total Bags  Small Bags  \\\n",
       "0          0.227716  0.230816  0.199902  0.212091    0.234170    0.232647   \n",
       "1          0.230427  0.231103  0.208054  0.211997    0.233350    0.231568   \n",
       "2          0.212085  0.231007  0.154478  0.211325    0.234730    0.233399   \n",
       "3          0.223444  0.230741  0.185350  0.211864    0.237096    0.236568   \n",
       "4          0.231538  0.230891  0.208719  0.211834    0.236718    0.236154   \n",
       "...             ...       ...       ...       ...         ...         ...   \n",
       "18244      0.241373  0.230017  0.243857  0.212540    0.229301    0.226665   \n",
       "18245      0.242296  0.230693  0.242277  0.212540    0.233594    0.232196   \n",
       "18246      0.242331  0.230693  0.243090  0.205766    0.233463    0.231644   \n",
       "18247      0.241625  0.230428  0.242651  0.205774    0.231866    0.229543   \n",
       "18248      0.241253  0.229347  0.243170  0.210450    0.230807    0.228111   \n",
       "\n",
       "       Large Bags  XLarge Bags  \n",
       "0        0.222352      0.17558  \n",
       "1        0.222335      0.17558  \n",
       "2        0.222311      0.17558  \n",
       "3        0.222186      0.17558  \n",
       "4        0.221924      0.17558  \n",
       "...           ...          ...  \n",
       "18244    0.220964      0.17558  \n",
       "18245    0.221403      0.17558  \n",
       "18246    0.222561      0.17558  \n",
       "18247    0.222529      0.17558  \n",
       "18248    0.222628      0.17558  \n",
       "\n",
       "[18249 rows x 8 columns]"
      ]
     },
     "execution_count": 20,
     "metadata": {},
     "output_type": "execute_result"
    }
   ],
   "source": [
    "from scipy.stats import zscore\n",
    "out_col=df[['Total Volume','4046','4225','4770','Total Bags','Small Bags','Large Bags','XLarge Bags']]\n",
    "z=np.abs(zscore(out_col))\n",
    "z "
   ]
  },
  {
   "cell_type": "code",
   "execution_count": 21,
   "id": "09e7524a",
   "metadata": {},
   "outputs": [
    {
     "data": {
      "text/plain": [
       "(array([  313,   324,   326, ...,  9113,  9113, 17487], dtype=int64),\n",
       " array([3, 2, 3, ..., 4, 6, 6], dtype=int64))"
      ]
     },
     "execution_count": 21,
     "metadata": {},
     "output_type": "execute_result"
    }
   ],
   "source": [
    "#threesold=2\n",
    "np.where(z>2)"
   ]
  },
  {
   "cell_type": "code",
   "execution_count": 22,
   "id": "daff9eee",
   "metadata": {},
   "outputs": [
    {
     "data": {
      "text/plain": [
       "2.5994149653795113"
      ]
     },
     "execution_count": 22,
     "metadata": {},
     "output_type": "execute_result"
    }
   ],
   "source": [
    "z.iloc[337,1]"
   ]
  },
  {
   "cell_type": "code",
   "execution_count": 23,
   "id": "67b40df2",
   "metadata": {},
   "outputs": [
    {
     "data": {
      "text/plain": [
       "(17334, 13)"
      ]
     },
     "execution_count": 23,
     "metadata": {},
     "output_type": "execute_result"
    }
   ],
   "source": [
    "#removoing the dataabove zscore and creating new df\n",
    "df1=df[(z<2).all(axis=1)]\n",
    "df1.shape"
   ]
  },
  {
   "cell_type": "code",
   "execution_count": 24,
   "id": "abeeddb7",
   "metadata": {},
   "outputs": [
    {
     "name": "stdout",
     "output_type": "stream",
     "text": [
      "old data frame.-- 18249\n",
      "new data frame.-- 17334\n"
     ]
    }
   ],
   "source": [
    "#shape of old and new data\n",
    "print(\"old data frame.--\",df.shape[0])\n",
    "print(\"new data frame.--\",df1.shape[0])"
   ]
  },
  {
   "cell_type": "code",
   "execution_count": 25,
   "id": "08005ce3",
   "metadata": {},
   "outputs": [
    {
     "name": "stdout",
     "output_type": "stream",
     "text": [
      "data loss percentage-- 5.0139733684037475\n"
     ]
    }
   ],
   "source": [
    "print(\"data loss percentage--\", ((df.shape[0]-df1.shape[0])/df.shape[0])*100)"
   ]
  },
  {
   "cell_type": "markdown",
   "id": "af5afe4d",
   "metadata": {},
   "source": [
    "the data loss is less than 10% we can delete the outliers"
   ]
  },
  {
   "cell_type": "code",
   "execution_count": 26,
   "id": "e10116e5",
   "metadata": {},
   "outputs": [
    {
     "data": {
      "text/html": [
       "<div>\n",
       "<style scoped>\n",
       "    .dataframe tbody tr th:only-of-type {\n",
       "        vertical-align: middle;\n",
       "    }\n",
       "\n",
       "    .dataframe tbody tr th {\n",
       "        vertical-align: top;\n",
       "    }\n",
       "\n",
       "    .dataframe thead th {\n",
       "        text-align: right;\n",
       "    }\n",
       "</style>\n",
       "<table border=\"1\" class=\"dataframe\">\n",
       "  <thead>\n",
       "    <tr style=\"text-align: right;\">\n",
       "      <th></th>\n",
       "      <th>Date</th>\n",
       "      <th>AveragePrice</th>\n",
       "      <th>Total Volume</th>\n",
       "      <th>4046</th>\n",
       "      <th>4225</th>\n",
       "      <th>4770</th>\n",
       "      <th>Total Bags</th>\n",
       "      <th>Small Bags</th>\n",
       "      <th>Large Bags</th>\n",
       "      <th>XLarge Bags</th>\n",
       "      <th>type</th>\n",
       "      <th>year</th>\n",
       "      <th>region</th>\n",
       "    </tr>\n",
       "  </thead>\n",
       "  <tbody>\n",
       "    <tr>\n",
       "      <th>0</th>\n",
       "      <td>2015-12-27</td>\n",
       "      <td>1.33</td>\n",
       "      <td>64236.62</td>\n",
       "      <td>1036.74</td>\n",
       "      <td>54454.85</td>\n",
       "      <td>48.16</td>\n",
       "      <td>8696.87</td>\n",
       "      <td>8603.62</td>\n",
       "      <td>93.25</td>\n",
       "      <td>0.0</td>\n",
       "      <td>conventional</td>\n",
       "      <td>2015</td>\n",
       "      <td>Albany</td>\n",
       "    </tr>\n",
       "    <tr>\n",
       "      <th>1</th>\n",
       "      <td>2015-12-20</td>\n",
       "      <td>1.35</td>\n",
       "      <td>54876.98</td>\n",
       "      <td>674.28</td>\n",
       "      <td>44638.81</td>\n",
       "      <td>58.33</td>\n",
       "      <td>9505.56</td>\n",
       "      <td>9408.07</td>\n",
       "      <td>97.49</td>\n",
       "      <td>0.0</td>\n",
       "      <td>conventional</td>\n",
       "      <td>2015</td>\n",
       "      <td>Albany</td>\n",
       "    </tr>\n",
       "    <tr>\n",
       "      <th>2</th>\n",
       "      <td>2015-12-13</td>\n",
       "      <td>0.93</td>\n",
       "      <td>118220.22</td>\n",
       "      <td>794.70</td>\n",
       "      <td>109149.67</td>\n",
       "      <td>130.50</td>\n",
       "      <td>8145.35</td>\n",
       "      <td>8042.21</td>\n",
       "      <td>103.14</td>\n",
       "      <td>0.0</td>\n",
       "      <td>conventional</td>\n",
       "      <td>2015</td>\n",
       "      <td>Albany</td>\n",
       "    </tr>\n",
       "    <tr>\n",
       "      <th>3</th>\n",
       "      <td>2015-12-06</td>\n",
       "      <td>1.08</td>\n",
       "      <td>78992.15</td>\n",
       "      <td>1132.00</td>\n",
       "      <td>71976.41</td>\n",
       "      <td>72.58</td>\n",
       "      <td>5811.16</td>\n",
       "      <td>5677.40</td>\n",
       "      <td>133.76</td>\n",
       "      <td>0.0</td>\n",
       "      <td>conventional</td>\n",
       "      <td>2015</td>\n",
       "      <td>Albany</td>\n",
       "    </tr>\n",
       "    <tr>\n",
       "      <th>4</th>\n",
       "      <td>2015-11-29</td>\n",
       "      <td>1.28</td>\n",
       "      <td>51039.60</td>\n",
       "      <td>941.48</td>\n",
       "      <td>43838.39</td>\n",
       "      <td>75.78</td>\n",
       "      <td>6183.95</td>\n",
       "      <td>5986.26</td>\n",
       "      <td>197.69</td>\n",
       "      <td>0.0</td>\n",
       "      <td>conventional</td>\n",
       "      <td>2015</td>\n",
       "      <td>Albany</td>\n",
       "    </tr>\n",
       "    <tr>\n",
       "      <th>...</th>\n",
       "      <td>...</td>\n",
       "      <td>...</td>\n",
       "      <td>...</td>\n",
       "      <td>...</td>\n",
       "      <td>...</td>\n",
       "      <td>...</td>\n",
       "      <td>...</td>\n",
       "      <td>...</td>\n",
       "      <td>...</td>\n",
       "      <td>...</td>\n",
       "      <td>...</td>\n",
       "      <td>...</td>\n",
       "      <td>...</td>\n",
       "    </tr>\n",
       "    <tr>\n",
       "      <th>18244</th>\n",
       "      <td>2018-02-04</td>\n",
       "      <td>1.63</td>\n",
       "      <td>17074.83</td>\n",
       "      <td>2046.96</td>\n",
       "      <td>1529.20</td>\n",
       "      <td>0.00</td>\n",
       "      <td>13498.67</td>\n",
       "      <td>13066.82</td>\n",
       "      <td>431.85</td>\n",
       "      <td>0.0</td>\n",
       "      <td>organic</td>\n",
       "      <td>2018</td>\n",
       "      <td>WestTexNewMexico</td>\n",
       "    </tr>\n",
       "    <tr>\n",
       "      <th>18245</th>\n",
       "      <td>2018-01-28</td>\n",
       "      <td>1.71</td>\n",
       "      <td>13888.04</td>\n",
       "      <td>1191.70</td>\n",
       "      <td>3431.50</td>\n",
       "      <td>0.00</td>\n",
       "      <td>9264.84</td>\n",
       "      <td>8940.04</td>\n",
       "      <td>324.80</td>\n",
       "      <td>0.0</td>\n",
       "      <td>organic</td>\n",
       "      <td>2018</td>\n",
       "      <td>WestTexNewMexico</td>\n",
       "    </tr>\n",
       "    <tr>\n",
       "      <th>18246</th>\n",
       "      <td>2018-01-21</td>\n",
       "      <td>1.87</td>\n",
       "      <td>13766.76</td>\n",
       "      <td>1191.92</td>\n",
       "      <td>2452.79</td>\n",
       "      <td>727.94</td>\n",
       "      <td>9394.11</td>\n",
       "      <td>9351.80</td>\n",
       "      <td>42.31</td>\n",
       "      <td>0.0</td>\n",
       "      <td>organic</td>\n",
       "      <td>2018</td>\n",
       "      <td>WestTexNewMexico</td>\n",
       "    </tr>\n",
       "    <tr>\n",
       "      <th>18247</th>\n",
       "      <td>2018-01-14</td>\n",
       "      <td>1.93</td>\n",
       "      <td>16205.22</td>\n",
       "      <td>1527.63</td>\n",
       "      <td>2981.04</td>\n",
       "      <td>727.01</td>\n",
       "      <td>10969.54</td>\n",
       "      <td>10919.54</td>\n",
       "      <td>50.00</td>\n",
       "      <td>0.0</td>\n",
       "      <td>organic</td>\n",
       "      <td>2018</td>\n",
       "      <td>WestTexNewMexico</td>\n",
       "    </tr>\n",
       "    <tr>\n",
       "      <th>18248</th>\n",
       "      <td>2018-01-07</td>\n",
       "      <td>1.62</td>\n",
       "      <td>17489.58</td>\n",
       "      <td>2894.77</td>\n",
       "      <td>2356.13</td>\n",
       "      <td>224.53</td>\n",
       "      <td>12014.15</td>\n",
       "      <td>11988.14</td>\n",
       "      <td>26.01</td>\n",
       "      <td>0.0</td>\n",
       "      <td>organic</td>\n",
       "      <td>2018</td>\n",
       "      <td>WestTexNewMexico</td>\n",
       "    </tr>\n",
       "  </tbody>\n",
       "</table>\n",
       "<p>17334 rows × 13 columns</p>\n",
       "</div>"
      ],
      "text/plain": [
       "             Date  AveragePrice  Total Volume     4046       4225    4770  \\\n",
       "0      2015-12-27          1.33      64236.62  1036.74   54454.85   48.16   \n",
       "1      2015-12-20          1.35      54876.98   674.28   44638.81   58.33   \n",
       "2      2015-12-13          0.93     118220.22   794.70  109149.67  130.50   \n",
       "3      2015-12-06          1.08      78992.15  1132.00   71976.41   72.58   \n",
       "4      2015-11-29          1.28      51039.60   941.48   43838.39   75.78   \n",
       "...           ...           ...           ...      ...        ...     ...   \n",
       "18244  2018-02-04          1.63      17074.83  2046.96    1529.20    0.00   \n",
       "18245  2018-01-28          1.71      13888.04  1191.70    3431.50    0.00   \n",
       "18246  2018-01-21          1.87      13766.76  1191.92    2452.79  727.94   \n",
       "18247  2018-01-14          1.93      16205.22  1527.63    2981.04  727.01   \n",
       "18248  2018-01-07          1.62      17489.58  2894.77    2356.13  224.53   \n",
       "\n",
       "       Total Bags  Small Bags  Large Bags  XLarge Bags          type  year  \\\n",
       "0         8696.87     8603.62       93.25          0.0  conventional  2015   \n",
       "1         9505.56     9408.07       97.49          0.0  conventional  2015   \n",
       "2         8145.35     8042.21      103.14          0.0  conventional  2015   \n",
       "3         5811.16     5677.40      133.76          0.0  conventional  2015   \n",
       "4         6183.95     5986.26      197.69          0.0  conventional  2015   \n",
       "...           ...         ...         ...          ...           ...   ...   \n",
       "18244    13498.67    13066.82      431.85          0.0       organic  2018   \n",
       "18245     9264.84     8940.04      324.80          0.0       organic  2018   \n",
       "18246     9394.11     9351.80       42.31          0.0       organic  2018   \n",
       "18247    10969.54    10919.54       50.00          0.0       organic  2018   \n",
       "18248    12014.15    11988.14       26.01          0.0       organic  2018   \n",
       "\n",
       "                 region  \n",
       "0                Albany  \n",
       "1                Albany  \n",
       "2                Albany  \n",
       "3                Albany  \n",
       "4                Albany  \n",
       "...                 ...  \n",
       "18244  WestTexNewMexico  \n",
       "18245  WestTexNewMexico  \n",
       "18246  WestTexNewMexico  \n",
       "18247  WestTexNewMexico  \n",
       "18248  WestTexNewMexico  \n",
       "\n",
       "[17334 rows x 13 columns]"
      ]
     },
     "execution_count": 26,
     "metadata": {},
     "output_type": "execute_result"
    }
   ],
   "source": [
    "df1"
   ]
  },
  {
   "cell_type": "code",
   "execution_count": 27,
   "id": "377ea098",
   "metadata": {},
   "outputs": [],
   "source": [
    "df=df1"
   ]
  },
  {
   "cell_type": "code",
   "execution_count": 28,
   "id": "a428cd8d",
   "metadata": {},
   "outputs": [
    {
     "data": {
      "image/png": "[encoded data removed]",
      "text/plain": [
       "<Figure size 2000x1500 with 10 Axes>"
      ]
     },
     "metadata": {},
     "output_type": "display_data"
    }
   ],
   "source": [
    "plt.figure(figsize=(20,15), facecolor= \"yellow\")\n",
    "plotnumber = 1#iteration or index value\n",
    "for col in Numerical_col:\n",
    "    if plotnumber<=13:\n",
    "        ax=plt.subplot(4,4, plotnumber)#subplot is used to plot diff plot on single image\n",
    "        sns.boxplot(df[col])\n",
    "        plt.xlabel(col,fontsize=12)\n",
    "        plt.yticks(rotation= 0, fontsize=10)\n",
    "    plotnumber+=1\n",
    "plt.tight_layout()"
   ]
  },
  {
   "cell_type": "markdown",
   "id": "7d696625",
   "metadata": {},
   "source": [
    "after deleting the outlier data also there is more outliers"
   ]
  },
  {
   "cell_type": "code",
   "execution_count": 29,
   "id": "63888d28",
   "metadata": {},
   "outputs": [],
   "source": [
    "#dropping the date column\n",
    "df=df.drop('Date' ,axis=1)"
   ]
  },
  {
   "cell_type": "markdown",
   "id": "24d369ea",
   "metadata": {},
   "source": [
    "# ENCODING"
   ]
  },
  {
   "cell_type": "code",
   "execution_count": 30,
   "id": "9efe98c5",
   "metadata": {},
   "outputs": [
    {
     "data": {
      "text/html": [
       "<div>\n",
       "<style scoped>\n",
       "    .dataframe tbody tr th:only-of-type {\n",
       "        vertical-align: middle;\n",
       "    }\n",
       "\n",
       "    .dataframe tbody tr th {\n",
       "        vertical-align: top;\n",
       "    }\n",
       "\n",
       "    .dataframe thead th {\n",
       "        text-align: right;\n",
       "    }\n",
       "</style>\n",
       "<table border=\"1\" class=\"dataframe\">\n",
       "  <thead>\n",
       "    <tr style=\"text-align: right;\">\n",
       "      <th></th>\n",
       "      <th>AveragePrice</th>\n",
       "      <th>Total Volume</th>\n",
       "      <th>4046</th>\n",
       "      <th>4225</th>\n",
       "      <th>4770</th>\n",
       "      <th>Total Bags</th>\n",
       "      <th>Small Bags</th>\n",
       "      <th>Large Bags</th>\n",
       "      <th>XLarge Bags</th>\n",
       "      <th>type</th>\n",
       "      <th>year</th>\n",
       "      <th>region</th>\n",
       "    </tr>\n",
       "  </thead>\n",
       "  <tbody>\n",
       "    <tr>\n",
       "      <th>0</th>\n",
       "      <td>1.33</td>\n",
       "      <td>64236.62</td>\n",
       "      <td>1036.74</td>\n",
       "      <td>54454.85</td>\n",
       "      <td>48.16</td>\n",
       "      <td>8696.87</td>\n",
       "      <td>8603.62</td>\n",
       "      <td>93.25</td>\n",
       "      <td>0.0</td>\n",
       "      <td>0</td>\n",
       "      <td>2015</td>\n",
       "      <td>0</td>\n",
       "    </tr>\n",
       "    <tr>\n",
       "      <th>1</th>\n",
       "      <td>1.35</td>\n",
       "      <td>54876.98</td>\n",
       "      <td>674.28</td>\n",
       "      <td>44638.81</td>\n",
       "      <td>58.33</td>\n",
       "      <td>9505.56</td>\n",
       "      <td>9408.07</td>\n",
       "      <td>97.49</td>\n",
       "      <td>0.0</td>\n",
       "      <td>0</td>\n",
       "      <td>2015</td>\n",
       "      <td>0</td>\n",
       "    </tr>\n",
       "    <tr>\n",
       "      <th>2</th>\n",
       "      <td>0.93</td>\n",
       "      <td>118220.22</td>\n",
       "      <td>794.70</td>\n",
       "      <td>109149.67</td>\n",
       "      <td>130.50</td>\n",
       "      <td>8145.35</td>\n",
       "      <td>8042.21</td>\n",
       "      <td>103.14</td>\n",
       "      <td>0.0</td>\n",
       "      <td>0</td>\n",
       "      <td>2015</td>\n",
       "      <td>0</td>\n",
       "    </tr>\n",
       "    <tr>\n",
       "      <th>3</th>\n",
       "      <td>1.08</td>\n",
       "      <td>78992.15</td>\n",
       "      <td>1132.00</td>\n",
       "      <td>71976.41</td>\n",
       "      <td>72.58</td>\n",
       "      <td>5811.16</td>\n",
       "      <td>5677.40</td>\n",
       "      <td>133.76</td>\n",
       "      <td>0.0</td>\n",
       "      <td>0</td>\n",
       "      <td>2015</td>\n",
       "      <td>0</td>\n",
       "    </tr>\n",
       "    <tr>\n",
       "      <th>4</th>\n",
       "      <td>1.28</td>\n",
       "      <td>51039.60</td>\n",
       "      <td>941.48</td>\n",
       "      <td>43838.39</td>\n",
       "      <td>75.78</td>\n",
       "      <td>6183.95</td>\n",
       "      <td>5986.26</td>\n",
       "      <td>197.69</td>\n",
       "      <td>0.0</td>\n",
       "      <td>0</td>\n",
       "      <td>2015</td>\n",
       "      <td>0</td>\n",
       "    </tr>\n",
       "    <tr>\n",
       "      <th>...</th>\n",
       "      <td>...</td>\n",
       "      <td>...</td>\n",
       "      <td>...</td>\n",
       "      <td>...</td>\n",
       "      <td>...</td>\n",
       "      <td>...</td>\n",
       "      <td>...</td>\n",
       "      <td>...</td>\n",
       "      <td>...</td>\n",
       "      <td>...</td>\n",
       "      <td>...</td>\n",
       "      <td>...</td>\n",
       "    </tr>\n",
       "    <tr>\n",
       "      <th>18244</th>\n",
       "      <td>1.63</td>\n",
       "      <td>17074.83</td>\n",
       "      <td>2046.96</td>\n",
       "      <td>1529.20</td>\n",
       "      <td>0.00</td>\n",
       "      <td>13498.67</td>\n",
       "      <td>13066.82</td>\n",
       "      <td>431.85</td>\n",
       "      <td>0.0</td>\n",
       "      <td>1</td>\n",
       "      <td>2018</td>\n",
       "      <td>53</td>\n",
       "    </tr>\n",
       "    <tr>\n",
       "      <th>18245</th>\n",
       "      <td>1.71</td>\n",
       "      <td>13888.04</td>\n",
       "      <td>1191.70</td>\n",
       "      <td>3431.50</td>\n",
       "      <td>0.00</td>\n",
       "      <td>9264.84</td>\n",
       "      <td>8940.04</td>\n",
       "      <td>324.80</td>\n",
       "      <td>0.0</td>\n",
       "      <td>1</td>\n",
       "      <td>2018</td>\n",
       "      <td>53</td>\n",
       "    </tr>\n",
       "    <tr>\n",
       "      <th>18246</th>\n",
       "      <td>1.87</td>\n",
       "      <td>13766.76</td>\n",
       "      <td>1191.92</td>\n",
       "      <td>2452.79</td>\n",
       "      <td>727.94</td>\n",
       "      <td>9394.11</td>\n",
       "      <td>9351.80</td>\n",
       "      <td>42.31</td>\n",
       "      <td>0.0</td>\n",
       "      <td>1</td>\n",
       "      <td>2018</td>\n",
       "      <td>53</td>\n",
       "    </tr>\n",
       "    <tr>\n",
       "      <th>18247</th>\n",
       "      <td>1.93</td>\n",
       "      <td>16205.22</td>\n",
       "      <td>1527.63</td>\n",
       "      <td>2981.04</td>\n",
       "      <td>727.01</td>\n",
       "      <td>10969.54</td>\n",
       "      <td>10919.54</td>\n",
       "      <td>50.00</td>\n",
       "      <td>0.0</td>\n",
       "      <td>1</td>\n",
       "      <td>2018</td>\n",
       "      <td>53</td>\n",
       "    </tr>\n",
       "    <tr>\n",
       "      <th>18248</th>\n",
       "      <td>1.62</td>\n",
       "      <td>17489.58</td>\n",
       "      <td>2894.77</td>\n",
       "      <td>2356.13</td>\n",
       "      <td>224.53</td>\n",
       "      <td>12014.15</td>\n",
       "      <td>11988.14</td>\n",
       "      <td>26.01</td>\n",
       "      <td>0.0</td>\n",
       "      <td>1</td>\n",
       "      <td>2018</td>\n",
       "      <td>53</td>\n",
       "    </tr>\n",
       "  </tbody>\n",
       "</table>\n",
       "<p>17334 rows × 12 columns</p>\n",
       "</div>"
      ],
      "text/plain": [
       "       AveragePrice  Total Volume     4046       4225    4770  Total Bags  \\\n",
       "0              1.33      64236.62  1036.74   54454.85   48.16     8696.87   \n",
       "1              1.35      54876.98   674.28   44638.81   58.33     9505.56   \n",
       "2              0.93     118220.22   794.70  109149.67  130.50     8145.35   \n",
       "3              1.08      78992.15  1132.00   71976.41   72.58     5811.16   \n",
       "4              1.28      51039.60   941.48   43838.39   75.78     6183.95   \n",
       "...             ...           ...      ...        ...     ...         ...   \n",
       "18244          1.63      17074.83  2046.96    1529.20    0.00    13498.67   \n",
       "18245          1.71      13888.04  1191.70    3431.50    0.00     9264.84   \n",
       "18246          1.87      13766.76  1191.92    2452.79  727.94     9394.11   \n",
       "18247          1.93      16205.22  1527.63    2981.04  727.01    10969.54   \n",
       "18248          1.62      17489.58  2894.77    2356.13  224.53    12014.15   \n",
       "\n",
       "       Small Bags  Large Bags  XLarge Bags  type  year  region  \n",
       "0         8603.62       93.25          0.0     0  2015       0  \n",
       "1         9408.07       97.49          0.0     0  2015       0  \n",
       "2         8042.21      103.14          0.0     0  2015       0  \n",
       "3         5677.40      133.76          0.0     0  2015       0  \n",
       "4         5986.26      197.69          0.0     0  2015       0  \n",
       "...           ...         ...          ...   ...   ...     ...  \n",
       "18244    13066.82      431.85          0.0     1  2018      53  \n",
       "18245     8940.04      324.80          0.0     1  2018      53  \n",
       "18246     9351.80       42.31          0.0     1  2018      53  \n",
       "18247    10919.54       50.00          0.0     1  2018      53  \n",
       "18248    11988.14       26.01          0.0     1  2018      53  \n",
       "\n",
       "[17334 rows x 12 columns]"
      ]
     },
     "execution_count": 30,
     "metadata": {},
     "output_type": "execute_result"
    }
   ],
   "source": [
    "from sklearn.preprocessing import LabelEncoder\n",
    "LE=LabelEncoder()\n",
    "for i in df.columns:\n",
    "    if df[i].dtypes==\"object\":\n",
    "        df[i]= LE.fit_transform(df[i].values.reshape(-1,1))\n",
    "df   "
   ]
  },
  {
   "cell_type": "markdown",
   "id": "99beacca",
   "metadata": {},
   "source": [
    "Finding the correlation between the target variable and independent variable if there is any multicolinearity"
   ]
  },
  {
   "cell_type": "code",
   "execution_count": 31,
   "id": "bc387336",
   "metadata": {},
   "outputs": [
    {
     "data": {
      "text/html": [
       "<div>\n",
       "<style scoped>\n",
       "    .dataframe tbody tr th:only-of-type {\n",
       "        vertical-align: middle;\n",
       "    }\n",
       "\n",
       "    .dataframe tbody tr th {\n",
       "        vertical-align: top;\n",
       "    }\n",
       "\n",
       "    .dataframe thead th {\n",
       "        text-align: right;\n",
       "    }\n",
       "</style>\n",
       "<table border=\"1\" class=\"dataframe\">\n",
       "  <thead>\n",
       "    <tr style=\"text-align: right;\">\n",
       "      <th></th>\n",
       "      <th>AveragePrice</th>\n",
       "      <th>Total Volume</th>\n",
       "      <th>4046</th>\n",
       "      <th>4225</th>\n",
       "      <th>4770</th>\n",
       "      <th>Total Bags</th>\n",
       "      <th>Small Bags</th>\n",
       "      <th>Large Bags</th>\n",
       "      <th>XLarge Bags</th>\n",
       "      <th>type</th>\n",
       "      <th>year</th>\n",
       "      <th>region</th>\n",
       "    </tr>\n",
       "  </thead>\n",
       "  <tbody>\n",
       "    <tr>\n",
       "      <th>AveragePrice</th>\n",
       "      <td>1.000000</td>\n",
       "      <td>-0.329705</td>\n",
       "      <td>-0.335657</td>\n",
       "      <td>-0.233982</td>\n",
       "      <td>-0.237109</td>\n",
       "      <td>-0.292094</td>\n",
       "      <td>-0.261095</td>\n",
       "      <td>-0.278839</td>\n",
       "      <td>-0.149042</td>\n",
       "      <td>0.602117</td>\n",
       "      <td>0.098854</td>\n",
       "      <td>0.018289</td>\n",
       "    </tr>\n",
       "    <tr>\n",
       "      <th>Total Volume</th>\n",
       "      <td>-0.329705</td>\n",
       "      <td>1.000000</td>\n",
       "      <td>0.858985</td>\n",
       "      <td>0.871267</td>\n",
       "      <td>0.591259</td>\n",
       "      <td>0.908043</td>\n",
       "      <td>0.894425</td>\n",
       "      <td>0.616930</td>\n",
       "      <td>0.466285</td>\n",
       "      <td>-0.445847</td>\n",
       "      <td>-0.002410</td>\n",
       "      <td>0.062086</td>\n",
       "    </tr>\n",
       "    <tr>\n",
       "      <th>4046</th>\n",
       "      <td>-0.335657</td>\n",
       "      <td>0.858985</td>\n",
       "      <td>1.000000</td>\n",
       "      <td>0.536115</td>\n",
       "      <td>0.439580</td>\n",
       "      <td>0.700942</td>\n",
       "      <td>0.666830</td>\n",
       "      <td>0.545348</td>\n",
       "      <td>0.392212</td>\n",
       "      <td>-0.368755</td>\n",
       "      <td>-0.038940</td>\n",
       "      <td>0.105314</td>\n",
       "    </tr>\n",
       "    <tr>\n",
       "      <th>4225</th>\n",
       "      <td>-0.233982</td>\n",
       "      <td>0.871267</td>\n",
       "      <td>0.536115</td>\n",
       "      <td>1.000000</td>\n",
       "      <td>0.575772</td>\n",
       "      <td>0.756197</td>\n",
       "      <td>0.775551</td>\n",
       "      <td>0.424293</td>\n",
       "      <td>0.339624</td>\n",
       "      <td>-0.404309</td>\n",
       "      <td>-0.033894</td>\n",
       "      <td>-0.002111</td>\n",
       "    </tr>\n",
       "    <tr>\n",
       "      <th>4770</th>\n",
       "      <td>-0.237109</td>\n",
       "      <td>0.591259</td>\n",
       "      <td>0.439580</td>\n",
       "      <td>0.575772</td>\n",
       "      <td>1.000000</td>\n",
       "      <td>0.471887</td>\n",
       "      <td>0.487441</td>\n",
       "      <td>0.240170</td>\n",
       "      <td>0.429218</td>\n",
       "      <td>-0.336576</td>\n",
       "      <td>-0.096141</td>\n",
       "      <td>-0.098972</td>\n",
       "    </tr>\n",
       "    <tr>\n",
       "      <th>Total Bags</th>\n",
       "      <td>-0.292094</td>\n",
       "      <td>0.908043</td>\n",
       "      <td>0.700942</td>\n",
       "      <td>0.756197</td>\n",
       "      <td>0.471887</td>\n",
       "      <td>1.000000</td>\n",
       "      <td>0.973573</td>\n",
       "      <td>0.714004</td>\n",
       "      <td>0.511838</td>\n",
       "      <td>-0.394417</td>\n",
       "      <td>0.109663</td>\n",
       "      <td>0.075870</td>\n",
       "    </tr>\n",
       "    <tr>\n",
       "      <th>Small Bags</th>\n",
       "      <td>-0.261095</td>\n",
       "      <td>0.894425</td>\n",
       "      <td>0.666830</td>\n",
       "      <td>0.775551</td>\n",
       "      <td>0.487441</td>\n",
       "      <td>0.973573</td>\n",
       "      <td>1.000000</td>\n",
       "      <td>0.535737</td>\n",
       "      <td>0.529189</td>\n",
       "      <td>-0.379355</td>\n",
       "      <td>0.088973</td>\n",
       "      <td>0.061415</td>\n",
       "    </tr>\n",
       "    <tr>\n",
       "      <th>Large Bags</th>\n",
       "      <td>-0.278839</td>\n",
       "      <td>0.616930</td>\n",
       "      <td>0.545348</td>\n",
       "      <td>0.424293</td>\n",
       "      <td>0.240170</td>\n",
       "      <td>0.714004</td>\n",
       "      <td>0.535737</td>\n",
       "      <td>1.000000</td>\n",
       "      <td>0.224351</td>\n",
       "      <td>-0.290687</td>\n",
       "      <td>0.129996</td>\n",
       "      <td>0.097119</td>\n",
       "    </tr>\n",
       "    <tr>\n",
       "      <th>XLarge Bags</th>\n",
       "      <td>-0.149042</td>\n",
       "      <td>0.466285</td>\n",
       "      <td>0.392212</td>\n",
       "      <td>0.339624</td>\n",
       "      <td>0.429218</td>\n",
       "      <td>0.511838</td>\n",
       "      <td>0.529189</td>\n",
       "      <td>0.224351</td>\n",
       "      <td>1.000000</td>\n",
       "      <td>-0.277754</td>\n",
       "      <td>0.086889</td>\n",
       "      <td>-0.043919</td>\n",
       "    </tr>\n",
       "    <tr>\n",
       "      <th>type</th>\n",
       "      <td>0.602117</td>\n",
       "      <td>-0.445847</td>\n",
       "      <td>-0.368755</td>\n",
       "      <td>-0.404309</td>\n",
       "      <td>-0.336576</td>\n",
       "      <td>-0.394417</td>\n",
       "      <td>-0.379355</td>\n",
       "      <td>-0.290687</td>\n",
       "      <td>-0.277754</td>\n",
       "      <td>1.000000</td>\n",
       "      <td>0.007807</td>\n",
       "      <td>0.028559</td>\n",
       "    </tr>\n",
       "    <tr>\n",
       "      <th>year</th>\n",
       "      <td>0.098854</td>\n",
       "      <td>-0.002410</td>\n",
       "      <td>-0.038940</td>\n",
       "      <td>-0.033894</td>\n",
       "      <td>-0.096141</td>\n",
       "      <td>0.109663</td>\n",
       "      <td>0.088973</td>\n",
       "      <td>0.129996</td>\n",
       "      <td>0.086889</td>\n",
       "      <td>0.007807</td>\n",
       "      <td>1.000000</td>\n",
       "      <td>-0.003095</td>\n",
       "    </tr>\n",
       "    <tr>\n",
       "      <th>region</th>\n",
       "      <td>0.018289</td>\n",
       "      <td>0.062086</td>\n",
       "      <td>0.105314</td>\n",
       "      <td>-0.002111</td>\n",
       "      <td>-0.098972</td>\n",
       "      <td>0.075870</td>\n",
       "      <td>0.061415</td>\n",
       "      <td>0.097119</td>\n",
       "      <td>-0.043919</td>\n",
       "      <td>0.028559</td>\n",
       "      <td>-0.003095</td>\n",
       "      <td>1.000000</td>\n",
       "    </tr>\n",
       "  </tbody>\n",
       "</table>\n",
       "</div>"
      ],
      "text/plain": [
       "              AveragePrice  Total Volume      4046      4225      4770  \\\n",
       "AveragePrice      1.000000     -0.329705 -0.335657 -0.233982 -0.237109   \n",
       "Total Volume     -0.329705      1.000000  0.858985  0.871267  0.591259   \n",
       "4046             -0.335657      0.858985  1.000000  0.536115  0.439580   \n",
       "4225             -0.233982      0.871267  0.536115  1.000000  0.575772   \n",
       "4770             -0.237109      0.591259  0.439580  0.575772  1.000000   \n",
       "Total Bags       -0.292094      0.908043  0.700942  0.756197  0.471887   \n",
       "Small Bags       -0.261095      0.894425  0.666830  0.775551  0.487441   \n",
       "Large Bags       -0.278839      0.616930  0.545348  0.424293  0.240170   \n",
       "XLarge Bags      -0.149042      0.466285  0.392212  0.339624  0.429218   \n",
       "type              0.602117     -0.445847 -0.368755 -0.404309 -0.336576   \n",
       "year              0.098854     -0.002410 -0.038940 -0.033894 -0.096141   \n",
       "region            0.018289      0.062086  0.105314 -0.002111 -0.098972   \n",
       "\n",
       "              Total Bags  Small Bags  Large Bags  XLarge Bags      type  \\\n",
       "AveragePrice   -0.292094   -0.261095   -0.278839    -0.149042  0.602117   \n",
       "Total Volume    0.908043    0.894425    0.616930     0.466285 -0.445847   \n",
       "4046            0.700942    0.666830    0.545348     0.392212 -0.368755   \n",
       "4225            0.756197    0.775551    0.424293     0.339624 -0.404309   \n",
       "4770            0.471887    0.487441    0.240170     0.429218 -0.336576   \n",
       "Total Bags      1.000000    0.973573    0.714004     0.511838 -0.394417   \n",
       "Small Bags      0.973573    1.000000    0.535737     0.529189 -0.379355   \n",
       "Large Bags      0.714004    0.535737    1.000000     0.224351 -0.290687   \n",
       "XLarge Bags     0.511838    0.529189    0.224351     1.000000 -0.277754   \n",
       "type           -0.394417   -0.379355   -0.290687    -0.277754  1.000000   \n",
       "year            0.109663    0.088973    0.129996     0.086889  0.007807   \n",
       "region          0.075870    0.061415    0.097119    -0.043919  0.028559   \n",
       "\n",
       "                  year    region  \n",
       "AveragePrice  0.098854  0.018289  \n",
       "Total Volume -0.002410  0.062086  \n",
       "4046         -0.038940  0.105314  \n",
       "4225         -0.033894 -0.002111  \n",
       "4770         -0.096141 -0.098972  \n",
       "Total Bags    0.109663  0.075870  \n",
       "Small Bags    0.088973  0.061415  \n",
       "Large Bags    0.129996  0.097119  \n",
       "XLarge Bags   0.086889 -0.043919  \n",
       "type          0.007807  0.028559  \n",
       "year          1.000000 -0.003095  \n",
       "region       -0.003095  1.000000  "
      ]
     },
     "execution_count": 31,
     "metadata": {},
     "output_type": "execute_result"
    }
   ],
   "source": [
    "#check the corr\n",
    "cor = df.corr()\n",
    "cor"
   ]
  },
  {
   "cell_type": "code",
   "execution_count": 32,
   "id": "78830f51",
   "metadata": {},
   "outputs": [
    {
     "data": {
      "image/png": "[encoded data removed]",
      "text/plain": [
       "<Figure size 2000x1500 with 2 Axes>"
      ]
     },
     "metadata": {},
     "output_type": "display_data"
    }
   ],
   "source": [
    "#by using heatmap checking the correlation matrix\n",
    "plt.figure(figsize=(20,15))\n",
    "sns.heatmap(df.corr(), linewidths=0.1,fmt='.1g', linecolor=\"black\", annot=True, cmap=\"Blues_r\")\n",
    "plt.show()"
   ]
  },
  {
   "cell_type": "markdown",
   "id": "65f86bdf",
   "metadata": {},
   "source": [
    "FROM THE ABOVE HEATMAP WE CAN OBSERVE THERE ARE SOME COLUMNS ARE HIGHLY CORRELATED\n",
    "1)TOATL volume is highly  positively correlated with largebags,smallbags,total bags,c,4046.\n",
    "2)4046 is highly  positively correlated smallbags,total bags and total volume.\n",
    "3)4225 is highly  positively correlated with smallbags,total bags and total volume.\n",
    "4)Total bags is positively correlated with large bags,and total volume\n",
    "5)small bags is highly  positively correlated with total bags, total volume,4225,4770.\n",
    "\n",
    "we can drop some columns after checking vif values"
   ]
  },
  {
   "cell_type": "code",
   "execution_count": 33,
   "id": "2235f7a1",
   "metadata": {},
   "outputs": [
    {
     "data": {
      "text/plain": [
       "AveragePrice    0.545424\n",
       "Total Volume    3.993739\n",
       "4046            5.074195\n",
       "4225            4.735698\n",
       "4770            5.079635\n",
       "Total Bags      3.990209\n",
       "Small Bags      4.281543\n",
       "Large Bags      4.548163\n",
       "XLarge Bags     6.160207\n",
       "type           -0.105150\n",
       "year            0.221246\n",
       "region          0.005995\n",
       "dtype: float64"
      ]
     },
     "execution_count": 33,
     "metadata": {},
     "output_type": "execute_result"
    }
   ],
   "source": [
    "#checking skewness\n",
    "df.skew()"
   ]
  },
  {
   "cell_type": "code",
   "execution_count": 34,
   "id": "072e3390",
   "metadata": {},
   "outputs": [],
   "source": [
    "#removing skewness using cuberoot method the acceptable range is -0.5 to +0.5\n",
    "df[\"Total Volume\"]=np.cbrt(df[\"Total Volume\"])\n",
    "df[\"4046\"]=np.cbrt(df[\"4046\"])\n",
    "df[\"4225\"]=np.cbrt(df[\"4225\"])\n",
    "df[\"4770\"]=np.cbrt(df[\"4770\"])\n",
    "df[\"Total Bags\"]=np.cbrt(df[\"Total Bags\"])\n",
    "df[\"Small Bags\"]=np.cbrt(df[\"Small Bags\"])\n",
    "df[\"Large Bags\"]=np.cbrt(df[\"Large Bags\"])\n",
    "df[\"XLarge Bags\"]=np.cbrt(df[\"XLarge Bags\"])"
   ]
  },
  {
   "cell_type": "code",
   "execution_count": 35,
   "id": "0cbce430",
   "metadata": {},
   "outputs": [
    {
     "data": {
      "text/plain": [
       "AveragePrice    0.545424\n",
       "Total Volume    1.064278\n",
       "4046            1.400149\n",
       "4225            1.137322\n",
       "4770            1.571393\n",
       "Total Bags      1.060480\n",
       "Small Bags      1.081092\n",
       "Large Bags      1.176615\n",
       "XLarge Bags     2.249820\n",
       "type           -0.105150\n",
       "year            0.221246\n",
       "region          0.005995\n",
       "dtype: float64"
      ]
     },
     "execution_count": 35,
     "metadata": {},
     "output_type": "execute_result"
    }
   ],
   "source": [
    "df.skew()"
   ]
  },
  {
   "cell_type": "markdown",
   "id": "53184e04",
   "metadata": {},
   "source": [
    "after reducing skewness also there is skew in some columns we can check vif and drop the columns"
   ]
  },
  {
   "cell_type": "code",
   "execution_count": 36,
   "id": "87c6291b",
   "metadata": {},
   "outputs": [],
   "source": [
    "#Seperating the label and features¶\n",
    "x_r=df.drop('AveragePrice', axis=1)\n",
    "y_r=df[\"AveragePrice\"]"
   ]
  },
  {
   "cell_type": "code",
   "execution_count": 37,
   "id": "d8d91f46",
   "metadata": {},
   "outputs": [
    {
     "data": {
      "text/html": [
       "<div>\n",
       "<style scoped>\n",
       "    .dataframe tbody tr th:only-of-type {\n",
       "        vertical-align: middle;\n",
       "    }\n",
       "\n",
       "    .dataframe tbody tr th {\n",
       "        vertical-align: top;\n",
       "    }\n",
       "\n",
       "    .dataframe thead th {\n",
       "        text-align: right;\n",
       "    }\n",
       "</style>\n",
       "<table border=\"1\" class=\"dataframe\">\n",
       "  <thead>\n",
       "    <tr style=\"text-align: right;\">\n",
       "      <th></th>\n",
       "      <th>Total Volume</th>\n",
       "      <th>4046</th>\n",
       "      <th>4225</th>\n",
       "      <th>4770</th>\n",
       "      <th>Total Bags</th>\n",
       "      <th>Small Bags</th>\n",
       "      <th>Large Bags</th>\n",
       "      <th>XLarge Bags</th>\n",
       "      <th>type</th>\n",
       "      <th>year</th>\n",
       "      <th>region</th>\n",
       "    </tr>\n",
       "  </thead>\n",
       "  <tbody>\n",
       "    <tr>\n",
       "      <th>0</th>\n",
       "      <td>40.049235</td>\n",
       "      <td>10.120997</td>\n",
       "      <td>37.903460</td>\n",
       "      <td>3.638275</td>\n",
       "      <td>20.564634</td>\n",
       "      <td>20.490870</td>\n",
       "      <td>4.534711</td>\n",
       "      <td>0.0</td>\n",
       "      <td>0</td>\n",
       "      <td>2015</td>\n",
       "      <td>0</td>\n",
       "    </tr>\n",
       "    <tr>\n",
       "      <th>1</th>\n",
       "      <td>38.001150</td>\n",
       "      <td>8.768933</td>\n",
       "      <td>35.473513</td>\n",
       "      <td>3.878204</td>\n",
       "      <td>21.183249</td>\n",
       "      <td>21.110581</td>\n",
       "      <td>4.602425</td>\n",
       "      <td>0.0</td>\n",
       "      <td>0</td>\n",
       "      <td>2015</td>\n",
       "      <td>0</td>\n",
       "    </tr>\n",
       "    <tr>\n",
       "      <th>2</th>\n",
       "      <td>49.079175</td>\n",
       "      <td>9.262632</td>\n",
       "      <td>47.790416</td>\n",
       "      <td>5.072283</td>\n",
       "      <td>20.120399</td>\n",
       "      <td>20.035113</td>\n",
       "      <td>4.689671</td>\n",
       "      <td>0.0</td>\n",
       "      <td>0</td>\n",
       "      <td>2015</td>\n",
       "      <td>0</td>\n",
       "    </tr>\n",
       "    <tr>\n",
       "      <th>3</th>\n",
       "      <td>42.906983</td>\n",
       "      <td>10.421946</td>\n",
       "      <td>41.597133</td>\n",
       "      <td>4.171309</td>\n",
       "      <td>17.978534</td>\n",
       "      <td>17.839520</td>\n",
       "      <td>5.114173</td>\n",
       "      <td>0.0</td>\n",
       "      <td>0</td>\n",
       "      <td>2015</td>\n",
       "      <td>0</td>\n",
       "    </tr>\n",
       "    <tr>\n",
       "      <th>4</th>\n",
       "      <td>37.093893</td>\n",
       "      <td>9.800999</td>\n",
       "      <td>35.260208</td>\n",
       "      <td>4.231732</td>\n",
       "      <td>18.355039</td>\n",
       "      <td>18.157325</td>\n",
       "      <td>5.825433</td>\n",
       "      <td>0.0</td>\n",
       "      <td>0</td>\n",
       "      <td>2015</td>\n",
       "      <td>0</td>\n",
       "    </tr>\n",
       "    <tr>\n",
       "      <th>...</th>\n",
       "      <td>...</td>\n",
       "      <td>...</td>\n",
       "      <td>...</td>\n",
       "      <td>...</td>\n",
       "      <td>...</td>\n",
       "      <td>...</td>\n",
       "      <td>...</td>\n",
       "      <td>...</td>\n",
       "      <td>...</td>\n",
       "      <td>...</td>\n",
       "      <td>...</td>\n",
       "    </tr>\n",
       "    <tr>\n",
       "      <th>18244</th>\n",
       "      <td>25.750488</td>\n",
       "      <td>12.697058</td>\n",
       "      <td>11.520945</td>\n",
       "      <td>0.000000</td>\n",
       "      <td>23.810234</td>\n",
       "      <td>23.553564</td>\n",
       "      <td>7.558651</td>\n",
       "      <td>0.0</td>\n",
       "      <td>1</td>\n",
       "      <td>2018</td>\n",
       "      <td>53</td>\n",
       "    </tr>\n",
       "    <tr>\n",
       "      <th>18245</th>\n",
       "      <td>24.037003</td>\n",
       "      <td>10.602029</td>\n",
       "      <td>15.083241</td>\n",
       "      <td>0.000000</td>\n",
       "      <td>21.002902</td>\n",
       "      <td>20.754542</td>\n",
       "      <td>6.873934</td>\n",
       "      <td>0.0</td>\n",
       "      <td>1</td>\n",
       "      <td>2018</td>\n",
       "      <td>53</td>\n",
       "    </tr>\n",
       "    <tr>\n",
       "      <th>18246</th>\n",
       "      <td>23.966829</td>\n",
       "      <td>10.602681</td>\n",
       "      <td>13.486113</td>\n",
       "      <td>8.995636</td>\n",
       "      <td>21.100134</td>\n",
       "      <td>21.068409</td>\n",
       "      <td>3.484558</td>\n",
       "      <td>0.0</td>\n",
       "      <td>1</td>\n",
       "      <td>2018</td>\n",
       "      <td>53</td>\n",
       "    </tr>\n",
       "    <tr>\n",
       "      <th>18247</th>\n",
       "      <td>25.305697</td>\n",
       "      <td>11.517001</td>\n",
       "      <td>14.392048</td>\n",
       "      <td>8.991803</td>\n",
       "      <td>22.219254</td>\n",
       "      <td>22.185443</td>\n",
       "      <td>3.684031</td>\n",
       "      <td>0.0</td>\n",
       "      <td>1</td>\n",
       "      <td>2018</td>\n",
       "      <td>53</td>\n",
       "    </tr>\n",
       "    <tr>\n",
       "      <th>18248</th>\n",
       "      <td>25.957317</td>\n",
       "      <td>14.251854</td>\n",
       "      <td>13.306579</td>\n",
       "      <td>6.077964</td>\n",
       "      <td>22.903280</td>\n",
       "      <td>22.886740</td>\n",
       "      <td>2.962876</td>\n",
       "      <td>0.0</td>\n",
       "      <td>1</td>\n",
       "      <td>2018</td>\n",
       "      <td>53</td>\n",
       "    </tr>\n",
       "  </tbody>\n",
       "</table>\n",
       "<p>17334 rows × 11 columns</p>\n",
       "</div>"
      ],
      "text/plain": [
       "       Total Volume       4046       4225      4770  Total Bags  Small Bags  \\\n",
       "0         40.049235  10.120997  37.903460  3.638275   20.564634   20.490870   \n",
       "1         38.001150   8.768933  35.473513  3.878204   21.183249   21.110581   \n",
       "2         49.079175   9.262632  47.790416  5.072283   20.120399   20.035113   \n",
       "3         42.906983  10.421946  41.597133  4.171309   17.978534   17.839520   \n",
       "4         37.093893   9.800999  35.260208  4.231732   18.355039   18.157325   \n",
       "...             ...        ...        ...       ...         ...         ...   \n",
       "18244     25.750488  12.697058  11.520945  0.000000   23.810234   23.553564   \n",
       "18245     24.037003  10.602029  15.083241  0.000000   21.002902   20.754542   \n",
       "18246     23.966829  10.602681  13.486113  8.995636   21.100134   21.068409   \n",
       "18247     25.305697  11.517001  14.392048  8.991803   22.219254   22.185443   \n",
       "18248     25.957317  14.251854  13.306579  6.077964   22.903280   22.886740   \n",
       "\n",
       "       Large Bags  XLarge Bags  type  year  region  \n",
       "0        4.534711          0.0     0  2015       0  \n",
       "1        4.602425          0.0     0  2015       0  \n",
       "2        4.689671          0.0     0  2015       0  \n",
       "3        5.114173          0.0     0  2015       0  \n",
       "4        5.825433          0.0     0  2015       0  \n",
       "...           ...          ...   ...   ...     ...  \n",
       "18244    7.558651          0.0     1  2018      53  \n",
       "18245    6.873934          0.0     1  2018      53  \n",
       "18246    3.484558          0.0     1  2018      53  \n",
       "18247    3.684031          0.0     1  2018      53  \n",
       "18248    2.962876          0.0     1  2018      53  \n",
       "\n",
       "[17334 rows x 11 columns]"
      ]
     },
     "execution_count": 37,
     "metadata": {},
     "output_type": "execute_result"
    }
   ],
   "source": [
    "from sklearn.preprocessing import StandardScaler\n",
    "scaler=StandardScaler()\n",
    "x_r=pd.DataFrame(scaler.fit_transform(x_r),columns=x_r.columns)\n",
    "x_r"
   ]
  },
  {
   "cell_type": "code",
   "execution_count": 38,
   "id": "055d1f7a",
   "metadata": {},
   "outputs": [
    {
     "data": {
      "text/html": [
       "<div>\n",
       "<style scoped>\n",
       "    .dataframe tbody tr th:only-of-type {\n",
       "        vertical-align: middle;\n",
       "    }\n",
       "\n",
       "    .dataframe tbody tr th {\n",
       "        vertical-align: top;\n",
       "    }\n",
       "\n",
       "    .dataframe thead th {\n",
       "        text-align: right;\n",
       "    }\n",
       "</style>\n",
       "<table border=\"1\" class=\"dataframe\">\n",
       "  <thead>\n",
       "    <tr style=\"text-align: right;\">\n",
       "      <th></th>\n",
       "      <th>VIF values</th>\n",
       "      <th>Features</th>\n",
       "    </tr>\n",
       "  </thead>\n",
       "  <tbody>\n",
       "    <tr>\n",
       "      <th>0</th>\n",
       "      <td>548.160136</td>\n",
       "      <td>Total Volume</td>\n",
       "    </tr>\n",
       "    <tr>\n",
       "      <th>1</th>\n",
       "      <td>45.843143</td>\n",
       "      <td>4046</td>\n",
       "    </tr>\n",
       "    <tr>\n",
       "      <th>2</th>\n",
       "      <td>93.232024</td>\n",
       "      <td>4225</td>\n",
       "    </tr>\n",
       "    <tr>\n",
       "      <th>3</th>\n",
       "      <td>4.729358</td>\n",
       "      <td>4770</td>\n",
       "    </tr>\n",
       "    <tr>\n",
       "      <th>4</th>\n",
       "      <td>347.465579</td>\n",
       "      <td>Total Bags</td>\n",
       "    </tr>\n",
       "    <tr>\n",
       "      <th>5</th>\n",
       "      <td>169.585583</td>\n",
       "      <td>Small Bags</td>\n",
       "    </tr>\n",
       "    <tr>\n",
       "      <th>6</th>\n",
       "      <td>18.094651</td>\n",
       "      <td>Large Bags</td>\n",
       "    </tr>\n",
       "    <tr>\n",
       "      <th>7</th>\n",
       "      <td>2.151923</td>\n",
       "      <td>XLarge Bags</td>\n",
       "    </tr>\n",
       "    <tr>\n",
       "      <th>8</th>\n",
       "      <td>5.084191</td>\n",
       "      <td>type</td>\n",
       "    </tr>\n",
       "    <tr>\n",
       "      <th>9</th>\n",
       "      <td>17.408322</td>\n",
       "      <td>year</td>\n",
       "    </tr>\n",
       "    <tr>\n",
       "      <th>10</th>\n",
       "      <td>4.287742</td>\n",
       "      <td>region</td>\n",
       "    </tr>\n",
       "  </tbody>\n",
       "</table>\n",
       "</div>"
      ],
      "text/plain": [
       "    VIF values      Features\n",
       "0   548.160136  Total Volume\n",
       "1    45.843143          4046\n",
       "2    93.232024          4225\n",
       "3     4.729358          4770\n",
       "4   347.465579    Total Bags\n",
       "5   169.585583    Small Bags\n",
       "6    18.094651    Large Bags\n",
       "7     2.151923   XLarge Bags\n",
       "8     5.084191          type\n",
       "9    17.408322          year\n",
       "10    4.287742        region"
      ]
     },
     "execution_count": 38,
     "metadata": {},
     "output_type": "execute_result"
    }
   ],
   "source": [
    "from statsmodels.stats.outliers_influence import variance_inflation_factor\n",
    "vif=pd.DataFrame()\n",
    "vif[\"VIF values\"]=[variance_inflation_factor(x_r.values,i) for i in range(len(x_r.columns))]\n",
    "vif[\"Features\"]=x_r.columns\n",
    "vif"
   ]
  },
  {
   "cell_type": "markdown",
   "id": "b9eaf4e7",
   "metadata": {},
   "source": [
    "total volume,4225,Total Bags,Small Bags,Large Bags,year has high vif valaues we can drop total volume column it has has vif and correlated to target "
   ]
  },
  {
   "cell_type": "code",
   "execution_count": 39,
   "id": "1f40b620",
   "metadata": {},
   "outputs": [],
   "source": [
    "x_r=df.drop(columns=['Total Volume','Total Bags','AveragePrice'], axis=1)"
   ]
  },
  {
   "cell_type": "code",
   "execution_count": 40,
   "id": "7945bca4",
   "metadata": {},
   "outputs": [
    {
     "data": {
      "text/html": [
       "<div>\n",
       "<style scoped>\n",
       "    .dataframe tbody tr th:only-of-type {\n",
       "        vertical-align: middle;\n",
       "    }\n",
       "\n",
       "    .dataframe tbody tr th {\n",
       "        vertical-align: top;\n",
       "    }\n",
       "\n",
       "    .dataframe thead th {\n",
       "        text-align: right;\n",
       "    }\n",
       "</style>\n",
       "<table border=\"1\" class=\"dataframe\">\n",
       "  <thead>\n",
       "    <tr style=\"text-align: right;\">\n",
       "      <th></th>\n",
       "      <th>VIF values</th>\n",
       "      <th>Features</th>\n",
       "    </tr>\n",
       "  </thead>\n",
       "  <tbody>\n",
       "    <tr>\n",
       "      <th>0</th>\n",
       "      <td>7.878646</td>\n",
       "      <td>4046</td>\n",
       "    </tr>\n",
       "    <tr>\n",
       "      <th>1</th>\n",
       "      <td>12.614722</td>\n",
       "      <td>4225</td>\n",
       "    </tr>\n",
       "    <tr>\n",
       "      <th>2</th>\n",
       "      <td>4.661064</td>\n",
       "      <td>4770</td>\n",
       "    </tr>\n",
       "    <tr>\n",
       "      <th>3</th>\n",
       "      <td>15.442746</td>\n",
       "      <td>Small Bags</td>\n",
       "    </tr>\n",
       "    <tr>\n",
       "      <th>4</th>\n",
       "      <td>3.999333</td>\n",
       "      <td>Large Bags</td>\n",
       "    </tr>\n",
       "    <tr>\n",
       "      <th>5</th>\n",
       "      <td>2.124330</td>\n",
       "      <td>XLarge Bags</td>\n",
       "    </tr>\n",
       "    <tr>\n",
       "      <th>6</th>\n",
       "      <td>5.031847</td>\n",
       "      <td>type</td>\n",
       "    </tr>\n",
       "    <tr>\n",
       "      <th>7</th>\n",
       "      <td>14.574303</td>\n",
       "      <td>year</td>\n",
       "    </tr>\n",
       "    <tr>\n",
       "      <th>8</th>\n",
       "      <td>4.177691</td>\n",
       "      <td>region</td>\n",
       "    </tr>\n",
       "  </tbody>\n",
       "</table>\n",
       "</div>"
      ],
      "text/plain": [
       "   VIF values     Features\n",
       "0    7.878646         4046\n",
       "1   12.614722         4225\n",
       "2    4.661064         4770\n",
       "3   15.442746   Small Bags\n",
       "4    3.999333   Large Bags\n",
       "5    2.124330  XLarge Bags\n",
       "6    5.031847         type\n",
       "7   14.574303         year\n",
       "8    4.177691       region"
      ]
     },
     "execution_count": 40,
     "metadata": {},
     "output_type": "execute_result"
    }
   ],
   "source": [
    "from statsmodels.stats.outliers_influence import variance_inflation_factor\n",
    "vif=pd.DataFrame()\n",
    "vif[\"VIF values\"]=[variance_inflation_factor(x_r.values,i) for i in range(len(x_r.columns))]\n",
    "vif[\"Features\"]=x_r.columns\n",
    "vif"
   ]
  },
  {
   "cell_type": "markdown",
   "id": "07a83a14",
   "metadata": {},
   "source": [
    "# DATA MODELLING--REGRESSION"
   ]
  },
  {
   "cell_type": "code",
   "execution_count": 41,
   "id": "96103ba6",
   "metadata": {},
   "outputs": [],
   "source": [
    "from sklearn.model_selection import train_test_split\n",
    "from sklearn.metrics import mean_absolute_error\n",
    "from sklearn.metrics import mean_squared_error\n",
    "from sklearn.metrics import r2_score\n",
    "from sklearn.ensemble import GradientBoostingRegressor\n",
    "from sklearn.linear_model import LinearRegression\n",
    "from sklearn.svm import SVR\n",
    "from sklearn.ensemble import RandomForestRegressor\n",
    "from sklearn.linear_model import LinearRegression\n",
    "from sklearn.tree import DecisionTreeRegressor\n",
    "from sklearn.neighbors import KNeighborsRegressor as KNN\n",
    "from sklearn.linear_model import Lasso,Ridge"
   ]
  },
  {
   "cell_type": "code",
   "execution_count": 42,
   "id": "2a5a14fd",
   "metadata": {},
   "outputs": [],
   "source": [
    "xr_train, xr_test, yr_train, yr_test = train_test_split(x_r,y_r, test_size=0.30, random_state=80)"
   ]
  },
  {
   "cell_type": "code",
   "execution_count": 43,
   "id": "8c9a8d86",
   "metadata": {},
   "outputs": [],
   "source": [
    "models=[LinearRegression(),DecisionTreeRegressor(),KNN(),RandomForestRegressor(),\n",
    "        GradientBoostingRegressor(),SVR()]"
   ]
  },
  {
   "cell_type": "code",
   "execution_count": 44,
   "id": "cfa70214",
   "metadata": {},
   "outputs": [],
   "source": [
    "def r2score_train_test():\n",
    "    \n",
    "    for model in models:\n",
    "        model.fit(xr_train,yr_train)\n",
    "        yr_train_pred = model.predict(xr_train)\n",
    "        yr_test_pred =model.predict(xr_test)\n",
    "        \n",
    "        \n",
    "    \n",
    "        print(model)\n",
    "        print('r2 Score for the training',  '=', r2_score(yr_train,yr_train_pred)*100)\n",
    "        print('r2 Score for the testing', '=',  r2_score(yr_test,yr_test_pred)*100)\n",
    "        print('Mean Absolute Error:',  '=',  mean_absolute_error(yr_test,yr_test_pred))\n",
    "        print('Mean squared Error:', '=',  mean_squared_error(yr_test,yr_test_pred))\n",
    "        print('Root Mean square Error:', '=',   np.sqrt(mean_squared_error(yr_test,yr_test_pred))) \n",
    "        print('-'*30)  \n",
    "        print(\"\\n\")\n",
    "              "
   ]
  },
  {
   "cell_type": "code",
   "execution_count": 45,
   "id": "b6ee7bbf",
   "metadata": {},
   "outputs": [
    {
     "name": "stdout",
     "output_type": "stream",
     "text": [
      "LinearRegression()\n",
      "r2 Score for the training = 44.46827532515749\n",
      "r2 Score for the testing = 46.27914824136645\n",
      "Mean Absolute Error: = 0.2280080807230285\n",
      "Mean squared Error: = 0.08751737156086693\n",
      "Root Mean square Error: = 0.29583335099489194\n",
      "------------------------------\n",
      "\n",
      "\n",
      "DecisionTreeRegressor()\n",
      "r2 Score for the training = 100.0\n",
      "r2 Score for the testing = 67.14062976956778\n",
      "Mean Absolute Error: = 0.1518842530282638\n",
      "Mean squared Error: = 0.05353164776004614\n",
      "Root Mean square Error: = 0.23136907260921055\n",
      "------------------------------\n",
      "\n",
      "\n",
      "KNeighborsRegressor()\n",
      "r2 Score for the training = 88.74137409373908\n",
      "r2 Score for the testing = 83.83590779136195\n",
      "Mean Absolute Error: = 0.11205191309363585\n",
      "Mean squared Error: = 0.02633314285714286\n",
      "Root Mean square Error: = 0.1622748990359965\n",
      "------------------------------\n",
      "\n",
      "\n",
      "RandomForestRegressor()\n",
      "r2 Score for the training = 97.64057259466047\n",
      "r2 Score for the testing = 84.08966603799416\n",
      "Mean Absolute Error: = 0.11276710248029223\n",
      "Mean squared Error: = 0.02591974184003077\n",
      "Root Mean square Error: = 0.16099609262348813\n",
      "------------------------------\n",
      "\n",
      "\n",
      "GradientBoostingRegressor()\n",
      "r2 Score for the training = 67.62753977570952\n",
      "r2 Score for the testing = 66.59843370588703\n",
      "Mean Absolute Error: = 0.17497413123447572\n",
      "Mean squared Error: = 0.05441494675495385\n",
      "Root Mean square Error: = 0.23327011543477627\n",
      "------------------------------\n",
      "\n",
      "\n",
      "SVR()\n",
      "r2 Score for the training = 30.97814125915971\n",
      "r2 Score for the testing = 32.683538850341364\n",
      "Mean Absolute Error: = 0.2570351348891324\n",
      "Mean squared Error: = 0.10966616406357575\n",
      "Root Mean square Error: = 0.3311588199996729\n",
      "------------------------------\n",
      "\n",
      "\n"
     ]
    }
   ],
   "source": [
    "r2score_train_test()"
   ]
  },
  {
   "cell_type": "markdown",
   "id": "b9dffcb8",
   "metadata": {},
   "source": [
    "from the above models knn model gives the best r2 score when compare tom others models thwe difference between them training and testing is  low .. MAE,MSE,RMSE is low"
   ]
  },
  {
   "cell_type": "code",
   "execution_count": 46,
   "id": "cadf475d",
   "metadata": {},
   "outputs": [],
   "source": [
    "from sklearn.model_selection import cross_val_score"
   ]
  },
  {
   "cell_type": "markdown",
   "id": "8e8aec2f",
   "metadata": {},
   "source": [
    "compare_models_cross_validation()"
   ]
  },
  {
   "cell_type": "markdown",
   "id": "51e5cf08",
   "metadata": {},
   "source": [
    "cross validation score very low when compared to model accuracy"
   ]
  },
  {
   "cell_type": "markdown",
   "id": "b0ff4127",
   "metadata": {},
   "source": [
    "#difference between models and cross validation score\n",
    "print(\"Diff between r2_score and cross_validation score  for LinearRegression is =\",  99.60 -99.37)\n",
    "print(\"Diff between r2_score and cross_validation score  for DecisionTreeRegressor is =\",   87.13 -81.60)\n",
    "print(\"Diff between r2_score and cross_validation score  for KNeighborsRegressor is =\",  96.41 -96.37)\n",
    "print(\"Diff between r2_score and cross_validation score  for RandomForestRegressor is =\",  96.48 -94.76)\n",
    "print(\"Diff between r2_score and cross_validation score  for GradientBoostingRegressor is =\",  97.69-96.37)\n",
    "print(\"Diff between r2_score and cross_validation score  for SVR is =\", 97.90 -97.04)"
   ]
  },
  {
   "cell_type": "markdown",
   "id": "cd047ec1",
   "metadata": {},
   "source": [
    "# HYPER PARAMETER TUNING"
   ]
  },
  {
   "cell_type": "code",
   "execution_count": 48,
   "id": "1169df3b",
   "metadata": {},
   "outputs": [],
   "source": [
    "from sklearn.model_selection import GridSearchCV\n",
    "\n",
    "parameters ={\n",
    "             'n_neighbors': [1,15,30],\n",
    "              'weights' :['uniform', 'distance'],\n",
    "             'algorithm' : ['auto', 'ball_tree', 'kd_tree', 'brute'],\n",
    "              'leaf_size':[20,30,40],\n",
    "              'p':[float,2],\n",
    "               'metric':['str' ,'minkowski'],\n",
    "               'n_jobs':[-1]\n",
    "             }"
   ]
  },
  {
   "cell_type": "code",
   "execution_count": 49,
   "id": "d157a281",
   "metadata": {},
   "outputs": [],
   "source": [
    "GCV=GridSearchCV(KNN(),parameters,cv=5)"
   ]
  },
  {
   "cell_type": "code",
   "execution_count": 50,
   "id": "0ed1ba85",
   "metadata": {},
   "outputs": [
    {
     "data": {
      "text/html": [
       "<style>#sk-container-id-1 {color: black;}#sk-container-id-1 pre{padding: 0;}#sk-container-id-1 div.sk-toggleable {background-color: white;}#sk-container-id-1 label.sk-toggleable__label {cursor: pointer;display: block;width: 100%;margin-bottom: 0;padding: 0.3em;box-sizing: border-box;text-align: center;}#sk-container-id-1 label.sk-toggleable__label-arrow:before {content: \"▸\";float: left;margin-right: 0.25em;color: #696969;}#sk-container-id-1 label.sk-toggleable__label-arrow:hover:before {color: black;}#sk-container-id-1 div.sk-estimator:hover label.sk-toggleable__label-arrow:before {color: black;}#sk-container-id-1 div.sk-toggleable__content {max-height: 0;max-width: 0;overflow: hidden;text-align: left;background-color: #f0f8ff;}#sk-container-id-1 div.sk-toggleable__content pre {margin: 0.2em;color: black;border-radius: 0.25em;background-color: #f0f8ff;}#sk-container-id-1 input.sk-toggleable__control:checked~div.sk-toggleable__content {max-height: 200px;max-width: 100%;overflow: auto;}#sk-container-id-1 input.sk-toggleable__control:checked~label.sk-toggleable__label-arrow:before {content: \"▾\";}#sk-container-id-1 div.sk-estimator input.sk-toggleable__control:checked~label.sk-toggleable__label {background-color: #d4ebff;}#sk-container-id-1 div.sk-label input.sk-toggleable__control:checked~label.sk-toggleable__label {background-color: #d4ebff;}#sk-container-id-1 input.sk-hidden--visually {border: 0;clip: rect(1px 1px 1px 1px);clip: rect(1px, 1px, 1px, 1px);height: 1px;margin: -1px;overflow: hidden;padding: 0;position: absolute;width: 1px;}#sk-container-id-1 div.sk-estimator {font-family: monospace;background-color: #f0f8ff;border: 1px dotted black;border-radius: 0.25em;box-sizing: border-box;margin-bottom: 0.5em;}#sk-container-id-1 div.sk-estimator:hover {background-color: #d4ebff;}#sk-container-id-1 div.sk-parallel-item::after {content: \"\";width: 100%;border-bottom: 1px solid gray;flex-grow: 1;}#sk-container-id-1 div.sk-label:hover label.sk-toggleable__label {background-color: #d4ebff;}#sk-container-id-1 div.sk-serial::before {content: \"\";position: absolute;border-left: 1px solid gray;box-sizing: border-box;top: 0;bottom: 0;left: 50%;z-index: 0;}#sk-container-id-1 div.sk-serial {display: flex;flex-direction: column;align-items: center;background-color: white;padding-right: 0.2em;padding-left: 0.2em;position: relative;}#sk-container-id-1 div.sk-item {position: relative;z-index: 1;}#sk-container-id-1 div.sk-parallel {display: flex;align-items: stretch;justify-content: center;background-color: white;position: relative;}#sk-container-id-1 div.sk-item::before, #sk-container-id-1 div.sk-parallel-item::before {content: \"\";position: absolute;border-left: 1px solid gray;box-sizing: border-box;top: 0;bottom: 0;left: 50%;z-index: -1;}#sk-container-id-1 div.sk-parallel-item {display: flex;flex-direction: column;z-index: 1;position: relative;background-color: white;}#sk-container-id-1 div.sk-parallel-item:first-child::after {align-self: flex-end;width: 50%;}#sk-container-id-1 div.sk-parallel-item:last-child::after {align-self: flex-start;width: 50%;}#sk-container-id-1 div.sk-parallel-item:only-child::after {width: 0;}#sk-container-id-1 div.sk-dashed-wrapped {border: 1px dashed gray;margin: 0 0.4em 0.5em 0.4em;box-sizing: border-box;padding-bottom: 0.4em;background-color: white;}#sk-container-id-1 div.sk-label label {font-family: monospace;font-weight: bold;display: inline-block;line-height: 1.2em;}#sk-container-id-1 div.sk-label-container {text-align: center;}#sk-container-id-1 div.sk-container {/* jupyter's `normalize.less` sets `[hidden] { display: none; }` but bootstrap.min.css set `[hidden] { display: none !important; }` so we also need the `!important` here to be able to override the default hidden behavior on the sphinx rendered scikit-learn.org. See: https://github.com/scikit-learn/scikit-learn/issues/21755 */display: inline-block !important;position: relative;}#sk-container-id-1 div.sk-text-repr-fallback {display: none;}</style><div id=\"sk-container-id-1\" class=\"sk-top-container\"><div class=\"sk-text-repr-fallback\"><pre>GridSearchCV(cv=5, estimator=KNeighborsRegressor(),\n",
       "             param_grid={&#x27;algorithm&#x27;: [&#x27;auto&#x27;, &#x27;ball_tree&#x27;, &#x27;kd_tree&#x27;, &#x27;brute&#x27;],\n",
       "                         &#x27;leaf_size&#x27;: [20, 30, 40],\n",
       "                         &#x27;metric&#x27;: [&#x27;str&#x27;, &#x27;minkowski&#x27;], &#x27;n_jobs&#x27;: [-1],\n",
       "                         &#x27;n_neighbors&#x27;: [1, 15, 30], &#x27;p&#x27;: [&lt;class &#x27;float&#x27;&gt;, 2],\n",
       "                         &#x27;weights&#x27;: [&#x27;uniform&#x27;, &#x27;distance&#x27;]})</pre><b>In a Jupyter environment, please rerun this cell to show the HTML representation or trust the notebook. <br />On GitHub, the HTML representation is unable to render, please try loading this page with nbviewer.org.</b></div><div class=\"sk-container\" hidden><div class=\"sk-item sk-dashed-wrapped\"><div class=\"sk-label-container\"><div class=\"sk-label sk-toggleable\"><input class=\"sk-toggleable__control sk-hidden--visually\" id=\"sk-estimator-id-1\" type=\"checkbox\" ><label for=\"sk-estimator-id-1\" class=\"sk-toggleable__label sk-toggleable__label-arrow\">GridSearchCV</label><div class=\"sk-toggleable__content\"><pre>GridSearchCV(cv=5, estimator=KNeighborsRegressor(),\n",
       "             param_grid={&#x27;algorithm&#x27;: [&#x27;auto&#x27;, &#x27;ball_tree&#x27;, &#x27;kd_tree&#x27;, &#x27;brute&#x27;],\n",
       "                         &#x27;leaf_size&#x27;: [20, 30, 40],\n",
       "                         &#x27;metric&#x27;: [&#x27;str&#x27;, &#x27;minkowski&#x27;], &#x27;n_jobs&#x27;: [-1],\n",
       "                         &#x27;n_neighbors&#x27;: [1, 15, 30], &#x27;p&#x27;: [&lt;class &#x27;float&#x27;&gt;, 2],\n",
       "                         &#x27;weights&#x27;: [&#x27;uniform&#x27;, &#x27;distance&#x27;]})</pre></div></div></div><div class=\"sk-parallel\"><div class=\"sk-parallel-item\"><div class=\"sk-item\"><div class=\"sk-label-container\"><div class=\"sk-label sk-toggleable\"><input class=\"sk-toggleable__control sk-hidden--visually\" id=\"sk-estimator-id-2\" type=\"checkbox\" ><label for=\"sk-estimator-id-2\" class=\"sk-toggleable__label sk-toggleable__label-arrow\">estimator: KNeighborsRegressor</label><div class=\"sk-toggleable__content\"><pre>KNeighborsRegressor()</pre></div></div></div><div class=\"sk-serial\"><div class=\"sk-item\"><div class=\"sk-estimator sk-toggleable\"><input class=\"sk-toggleable__control sk-hidden--visually\" id=\"sk-estimator-id-3\" type=\"checkbox\" ><label for=\"sk-estimator-id-3\" class=\"sk-toggleable__label sk-toggleable__label-arrow\">KNeighborsRegressor</label><div class=\"sk-toggleable__content\"><pre>KNeighborsRegressor()</pre></div></div></div></div></div></div></div></div></div></div>"
      ],
      "text/plain": [
       "GridSearchCV(cv=5, estimator=KNeighborsRegressor(),\n",
       "             param_grid={'algorithm': ['auto', 'ball_tree', 'kd_tree', 'brute'],\n",
       "                         'leaf_size': [20, 30, 40],\n",
       "                         'metric': ['str', 'minkowski'], 'n_jobs': [-1],\n",
       "                         'n_neighbors': [1, 15, 30], 'p': [<class 'float'>, 2],\n",
       "                         'weights': ['uniform', 'distance']})"
      ]
     },
     "execution_count": 50,
     "metadata": {},
     "output_type": "execute_result"
    }
   ],
   "source": [
    "GCV.fit(xr_train,yr_train)"
   ]
  },
  {
   "cell_type": "code",
   "execution_count": 51,
   "id": "a1896f4c",
   "metadata": {},
   "outputs": [
    {
     "data": {
      "text/plain": [
       "{'algorithm': 'auto',\n",
       " 'leaf_size': 20,\n",
       " 'metric': 'minkowski',\n",
       " 'n_jobs': -1,\n",
       " 'n_neighbors': 15,\n",
       " 'p': 2,\n",
       " 'weights': 'distance'}"
      ]
     },
     "execution_count": 51,
     "metadata": {},
     "output_type": "execute_result"
    }
   ],
   "source": [
    "GCV.best_params_"
   ]
  },
  {
   "cell_type": "code",
   "execution_count": 52,
   "id": "52a366db",
   "metadata": {},
   "outputs": [
    {
     "name": "stdout",
     "output_type": "stream",
     "text": [
      "81.36664470709096\n"
     ]
    }
   ],
   "source": [
    "best_model = KNN(weights='distance',p=2,n_neighbors=15,n_jobs=-1,metric='minkowski',leaf_size=20,algorithm='auto')\n",
    "best_model.fit(xr_train,yr_train)\n",
    "yr_train_pred = best_model.predict(xr_train)\n",
    "yr_test_pred =best_model.predict(xr_test)\n",
    "print(r2_score(yr_test,yr_test_pred)*100)"
   ]
  },
  {
   "cell_type": "markdown",
   "id": "2f78895d",
   "metadata": {},
   "source": [
    "the r2 reduces we can change the paramaters and try again"
   ]
  },
  {
   "cell_type": "code",
   "execution_count": 53,
   "id": "c5889632",
   "metadata": {},
   "outputs": [
    {
     "name": "stdout",
     "output_type": "stream",
     "text": [
      "78.81554032772556\n"
     ]
    }
   ],
   "source": [
    "best_model = KNN(weights='distance',p=2,n_neighbors=25,n_jobs=-1,metric='minkowski',leaf_size=10,algorithm='auto')\n",
    "best_model.fit(xr_train,yr_train)\n",
    "yr_train_pred = best_model.predict(xr_train)\n",
    "yr_test_pred =best_model.predict(xr_test)\n",
    "print(r2_score(yr_test,yr_test_pred)*100)"
   ]
  },
  {
   "cell_type": "markdown",
   "id": "77bc5b7f",
   "metadata": {},
   "source": [
    "# DATA MODELLING--CLASSIFICATION"
   ]
  },
  {
   "cell_type": "code",
   "execution_count": 54,
   "id": "01fc4d23",
   "metadata": {},
   "outputs": [],
   "source": [
    "#Seperating the label and features\n",
    "x_c=df.drop('region', axis=1)\n",
    "y_c=df[\"region\"]"
   ]
  },
  {
   "cell_type": "code",
   "execution_count": 55,
   "id": "996d400d",
   "metadata": {},
   "outputs": [
    {
     "name": "stdout",
     "output_type": "stream",
     "text": [
      "(17334, 11)\n",
      "(17334,)\n"
     ]
    }
   ],
   "source": [
    "print(x_c.shape)\n",
    "print(y_c.shape)"
   ]
  },
  {
   "cell_type": "markdown",
   "id": "2289729a",
   "metadata": {},
   "source": [
    "TRAIN TEST SPLIT- Dividing the data into train test split"
   ]
  },
  {
   "cell_type": "code",
   "execution_count": 64,
   "id": "92b0e574",
   "metadata": {},
   "outputs": [],
   "source": [
    "xc_train, xc_test, yc_train, yc_test = train_test_split(x_c,y_c, test_size=0.25, random_state=75)"
   ]
  },
  {
   "cell_type": "code",
   "execution_count": 65,
   "id": "fca18a37",
   "metadata": {},
   "outputs": [],
   "source": [
    "from sklearn.ensemble import RandomForestClassifier\n",
    "from sklearn.linear_model import LogisticRegression\n",
    "from sklearn.svm import SVC\n",
    "from sklearn.tree import DecisionTreeClassifier\n",
    "from sklearn.ensemble import GradientBoostingClassifier, AdaBoostClassifier, BaggingClassifier\n",
    "from sklearn.metrics import accuracy_score,confusion_matrix, roc_curve, roc_auc_score,recall_score ,classification_report, f1_score, precision_score\n",
    "from sklearn.model_selection import cross_val_score\n",
    "from sklearn.neighbors import KNeighborsClassifier as KNC"
   ]
  },
  {
   "cell_type": "code",
   "execution_count": 66,
   "id": "b47557d4",
   "metadata": {},
   "outputs": [],
   "source": [
    "models=[DecisionTreeClassifier(),\n",
    "        BaggingClassifier(),SVC(),KNC(),RandomForestClassifier() ]"
   ]
  },
  {
   "cell_type": "code",
   "execution_count": 67,
   "id": "cf82f1a4",
   "metadata": {},
   "outputs": [],
   "source": [
    "def accuracyscore_train_test():\n",
    "    \n",
    "    for model in models:\n",
    "        model.fit(xc_train,yc_train)\n",
    "        yc_train_pred = model.predict(xc_train)\n",
    "        yc_test_pred =model.predict(xc_test)\n",
    "        \n",
    "        print(\"Model performance for Training set\")\n",
    "        print(model)\n",
    "        print('accuracyscore :',  '=',accuracy_score(yc_train,yc_train_pred)*100)\n",
    "       \n",
    "        print(\"Model performance for Testing set\")\n",
    "        print('accuracyscore :',  '=',accuracy_score(yc_test,yc_test_pred)*100)\n",
    "       \n",
    "        print(\"\\n\")\n",
    "              "
   ]
  },
  {
   "cell_type": "code",
   "execution_count": 68,
   "id": "91eefa66",
   "metadata": {},
   "outputs": [
    {
     "name": "stdout",
     "output_type": "stream",
     "text": [
      "Model performance for Training set\n",
      "DecisionTreeClassifier()\n",
      "accuracyscore : = 100.0\n",
      "Model performance for Testing set\n",
      "accuracyscore : = 79.74157821873558\n",
      "\n",
      "\n",
      "Model performance for Training set\n",
      "BaggingClassifier()\n",
      "accuracyscore : = 99.46153846153845\n",
      "Model performance for Testing set\n",
      "accuracyscore : = 85.48684817720351\n",
      "\n",
      "\n",
      "Model performance for Training set\n",
      "SVC()\n",
      "accuracyscore : = 4.369230769230769\n",
      "Model performance for Testing set\n",
      "accuracyscore : = 3.6686663590216892\n",
      "\n",
      "\n",
      "Model performance for Training set\n",
      "KNeighborsClassifier()\n",
      "accuracyscore : = 89.4\n",
      "Model performance for Testing set\n",
      "accuracyscore : = 83.94093216428243\n",
      "\n",
      "\n",
      "Model performance for Training set\n",
      "RandomForestClassifier()\n",
      "accuracyscore : = 100.0\n",
      "Model performance for Testing set\n",
      "accuracyscore : = 90.26303645592986\n",
      "\n",
      "\n"
     ]
    }
   ],
   "source": [
    "accuracyscore_train_test()"
   ]
  },
  {
   "cell_type": "markdown",
   "id": "fdb2becd",
   "metadata": {},
   "source": [
    "from the above models knc,randomforest model gives the best accuracy score when compare tom others models thwe difference between them training and testing is  low .. accuracy is 83.94 & 90.. by checking cross validation we can conform"
   ]
  },
  {
   "cell_type": "code",
   "execution_count": 71,
   "id": "c9aac8c2",
   "metadata": {},
   "outputs": [],
   "source": [
    "def compare_models_cross_validation():\n",
    "    \n",
    "    for model in models:\n",
    "        \n",
    "        cv_score = cross_val_score(model, x_c, y_c, cv=5)\n",
    "        mean_accuracy = sum(cv_score)/len(cv_score)\n",
    "        mean_accuracy = mean_accuracy*100\n",
    "        \n",
    "        \n",
    "        print('Cross Validation Score for the', model, '=', cv_score)\n",
    "        print('Mean Accuracy  of the', model, '=', mean_accuracy,'%')\n",
    "        print('-'*30) \n",
    "        print(\"\\n\") "
   ]
  },
  {
   "cell_type": "code",
   "execution_count": 72,
   "id": "6ae3d2d2",
   "metadata": {},
   "outputs": [
    {
     "name": "stdout",
     "output_type": "stream",
     "text": [
      "Cross Validation Score for the DecisionTreeClassifier() = [0.46726276 0.66628209 0.62763196 0.5289876  0.415176  ]\n",
      "Mean Accuracy  of the DecisionTreeClassifier() = 54.1068080530452 %\n",
      "------------------------------\n",
      "\n",
      "\n",
      "Cross Validation Score for the BaggingClassifier() = [0.5494664  0.73665994 0.69224113 0.60744159 0.45729948]\n",
      "Mean Accuracy  of the BaggingClassifier() = 60.86217074981637 %\n",
      "------------------------------\n",
      "\n",
      "\n",
      "Cross Validation Score for the SVC() = [0.09201038 0.12633401 0.0426882  0.01932506 0.01933064]\n",
      "Mean Accuracy  of the SVC() = 5.993765968505958 %\n",
      "------------------------------\n",
      "\n",
      "\n",
      "Cross Validation Score for the KNeighborsClassifier() = [0.58263628 0.71733487 0.65791751 0.56331122 0.4221004 ]\n",
      "Mean Accuracy  of the KNeighborsClassifier() = 58.86600577100619 %\n",
      "------------------------------\n",
      "\n",
      "\n",
      "Cross Validation Score for the RandomForestClassifier() = [0.59503894 0.81944044 0.74214018 0.68560715 0.48701673]\n",
      "Mean Accuracy  of the RandomForestClassifier() = 66.58486885915194 %\n",
      "------------------------------\n",
      "\n",
      "\n"
     ]
    }
   ],
   "source": [
    "compare_models_cross_validation()"
   ]
  },
  {
   "cell_type": "code",
   "execution_count": 77,
   "id": "3e28732c",
   "metadata": {},
   "outputs": [
    {
     "name": "stdout",
     "output_type": "stream",
     "text": [
      "Diff between Accuracy score and cross_validation score  for Decision tree classifier is = 25.639999999999993\n",
      "Diff between Accuracy score and cross_validation score  for BaggingClassifier is = 24.620000000000005\n",
      "Diff between Accuracy score and cross_validation score  for RandomForestClassifier is = 23.680000000000007\n",
      "Diff between Accuracy score and cross_validation score  for KNC is = 25.08\n",
      "Diff between Accuracy score and cross_validation score  for support vector machine is = -2.33\n"
     ]
    }
   ],
   "source": [
    "#difference between models and cross validation score\n",
    "print(\"Diff between Accuracy score and cross_validation score  for Decision tree classifier is =\",  79.74 -54.10)\n",
    "print(\"Diff between Accuracy score and cross_validation score  for BaggingClassifier is =\",  85.48 -60.86)\n",
    "print(\"Diff between Accuracy score and cross_validation score  for RandomForestClassifier is =\",  90.26 -66.58)\n",
    "print(\"Diff between Accuracy score and cross_validation score  for KNC is =\", 83.94 -58.86)\n",
    "print(\"Diff between Accuracy score and cross_validation score  for support vector machine is =\", 3.66 -5.99)"
   ]
  },
  {
   "cell_type": "markdown",
   "id": "e0e2a522",
   "metadata": {},
   "source": [
    "the diffrence between accuracy and croosvalidation score is less in randomforestclassifier \n",
    "the best model is random forest"
   ]
  },
  {
   "cell_type": "markdown",
   "id": "b403d361",
   "metadata": {},
   "source": [
    "# HYPER PARAMETER TUNING"
   ]
  },
  {
   "cell_type": "code",
   "execution_count": 78,
   "id": "92d4757a",
   "metadata": {},
   "outputs": [],
   "source": [
    "from sklearn.model_selection import GridSearchCV"
   ]
  },
  {
   "cell_type": "code",
   "execution_count": 84,
   "id": "2028ccb5",
   "metadata": {},
   "outputs": [],
   "source": [
    "parameters ={\n",
    "             'criterion': ['gini','entropy'],\n",
    "             'max_depth' : [1,5,10],\n",
    "             'random_state':[20,40],\n",
    "             'min_samples_split':[1,2,3],\n",
    "             'oob_score':[True,False]\n",
    "             }"
   ]
  },
  {
   "cell_type": "code",
   "execution_count": 86,
   "id": "2b621a7b",
   "metadata": {},
   "outputs": [],
   "source": [
    "RFC=GridSearchCV(RandomForestClassifier(),parameters,cv=5)"
   ]
  },
  {
   "cell_type": "code",
   "execution_count": 89,
   "id": "4e565318",
   "metadata": {},
   "outputs": [
    {
     "data": {
      "text/html": [
       "<style>#sk-container-id-2 {color: black;}#sk-container-id-2 pre{padding: 0;}#sk-container-id-2 div.sk-toggleable {background-color: white;}#sk-container-id-2 label.sk-toggleable__label {cursor: pointer;display: block;width: 100%;margin-bottom: 0;padding: 0.3em;box-sizing: border-box;text-align: center;}#sk-container-id-2 label.sk-toggleable__label-arrow:before {content: \"▸\";float: left;margin-right: 0.25em;color: #696969;}#sk-container-id-2 label.sk-toggleable__label-arrow:hover:before {color: black;}#sk-container-id-2 div.sk-estimator:hover label.sk-toggleable__label-arrow:before {color: black;}#sk-container-id-2 div.sk-toggleable__content {max-height: 0;max-width: 0;overflow: hidden;text-align: left;background-color: #f0f8ff;}#sk-container-id-2 div.sk-toggleable__content pre {margin: 0.2em;color: black;border-radius: 0.25em;background-color: #f0f8ff;}#sk-container-id-2 input.sk-toggleable__control:checked~div.sk-toggleable__content {max-height: 200px;max-width: 100%;overflow: auto;}#sk-container-id-2 input.sk-toggleable__control:checked~label.sk-toggleable__label-arrow:before {content: \"▾\";}#sk-container-id-2 div.sk-estimator input.sk-toggleable__control:checked~label.sk-toggleable__label {background-color: #d4ebff;}#sk-container-id-2 div.sk-label input.sk-toggleable__control:checked~label.sk-toggleable__label {background-color: #d4ebff;}#sk-container-id-2 input.sk-hidden--visually {border: 0;clip: rect(1px 1px 1px 1px);clip: rect(1px, 1px, 1px, 1px);height: 1px;margin: -1px;overflow: hidden;padding: 0;position: absolute;width: 1px;}#sk-container-id-2 div.sk-estimator {font-family: monospace;background-color: #f0f8ff;border: 1px dotted black;border-radius: 0.25em;box-sizing: border-box;margin-bottom: 0.5em;}#sk-container-id-2 div.sk-estimator:hover {background-color: #d4ebff;}#sk-container-id-2 div.sk-parallel-item::after {content: \"\";width: 100%;border-bottom: 1px solid gray;flex-grow: 1;}#sk-container-id-2 div.sk-label:hover label.sk-toggleable__label {background-color: #d4ebff;}#sk-container-id-2 div.sk-serial::before {content: \"\";position: absolute;border-left: 1px solid gray;box-sizing: border-box;top: 0;bottom: 0;left: 50%;z-index: 0;}#sk-container-id-2 div.sk-serial {display: flex;flex-direction: column;align-items: center;background-color: white;padding-right: 0.2em;padding-left: 0.2em;position: relative;}#sk-container-id-2 div.sk-item {position: relative;z-index: 1;}#sk-container-id-2 div.sk-parallel {display: flex;align-items: stretch;justify-content: center;background-color: white;position: relative;}#sk-container-id-2 div.sk-item::before, #sk-container-id-2 div.sk-parallel-item::before {content: \"\";position: absolute;border-left: 1px solid gray;box-sizing: border-box;top: 0;bottom: 0;left: 50%;z-index: -1;}#sk-container-id-2 div.sk-parallel-item {display: flex;flex-direction: column;z-index: 1;position: relative;background-color: white;}#sk-container-id-2 div.sk-parallel-item:first-child::after {align-self: flex-end;width: 50%;}#sk-container-id-2 div.sk-parallel-item:last-child::after {align-self: flex-start;width: 50%;}#sk-container-id-2 div.sk-parallel-item:only-child::after {width: 0;}#sk-container-id-2 div.sk-dashed-wrapped {border: 1px dashed gray;margin: 0 0.4em 0.5em 0.4em;box-sizing: border-box;padding-bottom: 0.4em;background-color: white;}#sk-container-id-2 div.sk-label label {font-family: monospace;font-weight: bold;display: inline-block;line-height: 1.2em;}#sk-container-id-2 div.sk-label-container {text-align: center;}#sk-container-id-2 div.sk-container {/* jupyter's `normalize.less` sets `[hidden] { display: none; }` but bootstrap.min.css set `[hidden] { display: none !important; }` so we also need the `!important` here to be able to override the default hidden behavior on the sphinx rendered scikit-learn.org. See: https://github.com/scikit-learn/scikit-learn/issues/21755 */display: inline-block !important;position: relative;}#sk-container-id-2 div.sk-text-repr-fallback {display: none;}</style><div id=\"sk-container-id-2\" class=\"sk-top-container\"><div class=\"sk-text-repr-fallback\"><pre>GridSearchCV(cv=5, estimator=RandomForestClassifier(),\n",
       "             param_grid={&#x27;criterion&#x27;: [&#x27;gini&#x27;, &#x27;entropy&#x27;],\n",
       "                         &#x27;max_depth&#x27;: [1, 5, 10],\n",
       "                         &#x27;min_samples_split&#x27;: [1, 2, 3],\n",
       "                         &#x27;oob_score&#x27;: [True, False], &#x27;random_state&#x27;: [20, 40]})</pre><b>In a Jupyter environment, please rerun this cell to show the HTML representation or trust the notebook. <br />On GitHub, the HTML representation is unable to render, please try loading this page with nbviewer.org.</b></div><div class=\"sk-container\" hidden><div class=\"sk-item sk-dashed-wrapped\"><div class=\"sk-label-container\"><div class=\"sk-label sk-toggleable\"><input class=\"sk-toggleable__control sk-hidden--visually\" id=\"sk-estimator-id-4\" type=\"checkbox\" ><label for=\"sk-estimator-id-4\" class=\"sk-toggleable__label sk-toggleable__label-arrow\">GridSearchCV</label><div class=\"sk-toggleable__content\"><pre>GridSearchCV(cv=5, estimator=RandomForestClassifier(),\n",
       "             param_grid={&#x27;criterion&#x27;: [&#x27;gini&#x27;, &#x27;entropy&#x27;],\n",
       "                         &#x27;max_depth&#x27;: [1, 5, 10],\n",
       "                         &#x27;min_samples_split&#x27;: [1, 2, 3],\n",
       "                         &#x27;oob_score&#x27;: [True, False], &#x27;random_state&#x27;: [20, 40]})</pre></div></div></div><div class=\"sk-parallel\"><div class=\"sk-parallel-item\"><div class=\"sk-item\"><div class=\"sk-label-container\"><div class=\"sk-label sk-toggleable\"><input class=\"sk-toggleable__control sk-hidden--visually\" id=\"sk-estimator-id-5\" type=\"checkbox\" ><label for=\"sk-estimator-id-5\" class=\"sk-toggleable__label sk-toggleable__label-arrow\">estimator: RandomForestClassifier</label><div class=\"sk-toggleable__content\"><pre>RandomForestClassifier()</pre></div></div></div><div class=\"sk-serial\"><div class=\"sk-item\"><div class=\"sk-estimator sk-toggleable\"><input class=\"sk-toggleable__control sk-hidden--visually\" id=\"sk-estimator-id-6\" type=\"checkbox\" ><label for=\"sk-estimator-id-6\" class=\"sk-toggleable__label sk-toggleable__label-arrow\">RandomForestClassifier</label><div class=\"sk-toggleable__content\"><pre>RandomForestClassifier()</pre></div></div></div></div></div></div></div></div></div></div>"
      ],
      "text/plain": [
       "GridSearchCV(cv=5, estimator=RandomForestClassifier(),\n",
       "             param_grid={'criterion': ['gini', 'entropy'],\n",
       "                         'max_depth': [1, 5, 10],\n",
       "                         'min_samples_split': [1, 2, 3],\n",
       "                         'oob_score': [True, False], 'random_state': [20, 40]})"
      ]
     },
     "execution_count": 89,
     "metadata": {},
     "output_type": "execute_result"
    }
   ],
   "source": [
    "RFC.fit(xc_train,yc_train)"
   ]
  },
  {
   "cell_type": "code",
   "execution_count": 90,
   "id": "1c13a475",
   "metadata": {},
   "outputs": [
    {
     "data": {
      "text/plain": [
       "{'criterion': 'entropy',\n",
       " 'max_depth': 10,\n",
       " 'min_samples_split': 2,\n",
       " 'oob_score': True,\n",
       " 'random_state': 20}"
      ]
     },
     "execution_count": 90,
     "metadata": {},
     "output_type": "execute_result"
    }
   ],
   "source": [
    "RFC.best_params_"
   ]
  },
  {
   "cell_type": "code",
   "execution_count": 91,
   "id": "980d3c2e",
   "metadata": {},
   "outputs": [
    {
     "name": "stdout",
     "output_type": "stream",
     "text": [
      "85.48684817720351\n"
     ]
    }
   ],
   "source": [
    "final_model=RandomForestClassifier(criterion = 'entropy',max_depth=10, oob_score=True, random_state=20, min_samples_split = 2)\n",
    "final_model.fit(xc_train,yc_train)\n",
    "pred=final_model.predict(xc_test)\n",
    "acc= accuracy_score(yc_test,pred)\n",
    "print(acc*100)"
   ]
  },
  {
   "cell_type": "code",
   "execution_count": 92,
   "id": "58b7d59f",
   "metadata": {},
   "outputs": [
    {
     "name": "stdout",
     "output_type": "stream",
     "text": [
      "85.48684817720351\n"
     ]
    }
   ],
   "source": [
    "final_model2=RandomForestClassifier(criterion = 'gini',max_depth=20, oob_score=True, random_state=40, min_samples_split = 1)\n",
    "final_model.fit(xc_train,yc_train)\n",
    "pred=final_model.predict(xc_test)\n",
    "acc= accuracy_score(yc_test,pred)\n",
    "print(acc*100)"
   ]
  },
  {
   "cell_type": "markdown",
   "id": "7c726d2f",
   "metadata": {},
   "source": [
    "BY PERFORMING HYPERPARAMETER TUNING USING GIRDSEARCHCV there is a increase in ACCURACY_SCORE from 90.01 to 85.4."
   ]
  },
  {
   "cell_type": "markdown",
   "id": "a5a308d5",
   "metadata": {},
   "source": [
    "PLOTTING ROC AND compare AUC FOR ALL MODELS"
   ]
  },
  {
   "cell_type": "markdown",
   "id": "4a30fe99",
   "metadata": {},
   "source": [
    "from sklearn import datasets\n",
    "from sklearn import metrics\n",
    "from sklearn import model_selection\n",
    "from sklearn import metrics\n",
    "fpr,tpr, thresholds=metrics.roc_curve(yc_test, pred)\n",
    "roc_auc=metrics.auc(fpr,tpr)\n",
    "display=metrics.RocCurveDisplay(fpr=fpr, tpr=tpr, roc_auc=roc_auc,estimator_name=final_model)\n",
    "display.plot()"
   ]
  },
  {
   "cell_type": "markdown",
   "id": "8c293312",
   "metadata": {},
   "source": [
    "classification has highest accuracy than r2score"
   ]
  },
  {
   "cell_type": "code",
   "execution_count": 95,
   "id": "470df235",
   "metadata": {},
   "outputs": [
    {
     "data": {
      "text/plain": [
       "['avocada-region.pkl']"
      ]
     },
     "execution_count": 95,
     "metadata": {},
     "output_type": "execute_result"
    }
   ],
   "source": [
    "#saving model using .pkl\n",
    "import joblib\n",
    "joblib.dump(final_model,\"avocada-region.pkl\")"
   ]
  },
  {
   "cell_type": "code",
   "execution_count": null,
   "id": "d8ef1524",
   "metadata": {},
   "outputs": [],
   "source": []
  }
 ],
 "metadata": {
  "kernelspec": {
   "display_name": "Python 3 (ipykernel)",
   "language": "python",
   "name": "python3"
  },
  "language_info": {
   "codemirror_mode": {
    "name": "ipython",
    "version": 3
   },
   "file_extension": ".py",
   "mimetype": "text/x-python",
   "name": "python",
   "nbconvert_exporter": "python",
   "pygments_lexer": "ipython3",
   "version": "3.11.5"
  }
 },
 "nbformat": 4,
 "nbformat_minor": 5
}
